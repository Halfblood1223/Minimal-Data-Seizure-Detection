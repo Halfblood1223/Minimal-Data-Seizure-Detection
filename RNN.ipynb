{
 "cells": [
  {
   "cell_type": "code",
   "execution_count": 1,
   "id": "78fca72e-5ae5-4ca4-9db3-ef4aa8de075a",
   "metadata": {},
   "outputs": [],
   "source": [
    "import numpy as np\n",
    "\n",
    "import matplotlib.pyplot as plt\n",
    "\n",
    "from data_retrieval import seizure_timestamps, classify, seizurevector_retrieval\n",
    "\n",
    "from nonseizure_dataretrieval import non_seizure_retrieval"
   ]
  },
  {
   "cell_type": "code",
   "execution_count": 2,
   "id": "1d2bcc1e-9ec8-4813-8883-a37837d0344a",
   "metadata": {},
   "outputs": [],
   "source": [
    "with open('../chbmit/1.0.0/RECORDS', 'r') as f:\n",
    "    recordlines = f.readlines()\n",
    "    recordlines = [line[6:].strip() for line in recordlines]\n",
    "    \n",
    "with open('../chbmit/1.0.0/RECORDS-WITH-SEIZURES', 'r') as f:\n",
    "    seizurelines = f.readlines()\n",
    "    seizurelines = [line[6:].strip() for line in seizurelines]\n",
    "    \n",
    "summaries = []\n",
    "for x in range(1, 25):\n",
    "    if x < 10:\n",
    "        x = f'0{x}'\n",
    "    with open(f'../chbmit/1.0.0/chb{x}/chb{x}-summary.txt', 'r') as f:\n",
    "        lines = f.readlines()\n",
    "        lines = [line.strip() for line in lines[29:]]\n",
    "        summaries += lines"
   ]
  },
  {
   "cell_type": "code",
   "execution_count": 3,
   "id": "4cccc33e-e63d-40be-9ef1-5501b9577ee0",
   "metadata": {},
   "outputs": [],
   "source": [
    "timestamps = seizure_timestamps(summaries, seizurelines)"
   ]
  },
  {
   "cell_type": "code",
   "execution_count": 4,
   "id": "b93d525a-79df-43ff-8a2d-4ee8b0000ee8",
   "metadata": {},
   "outputs": [],
   "source": [
    "seizureclass = np.zeros((197, 100))"
   ]
  },
  {
   "cell_type": "code",
   "execution_count": 322,
   "id": "8be0486a-f694-45a3-b2f2-2cd07a30eca9",
   "metadata": {},
   "outputs": [],
   "source": [
    "Y = classify(seizureclass, timestamps)"
   ]
  },
  {
   "cell_type": "code",
   "execution_count": 6,
   "id": "b7ec91ba-f479-409b-8c6c-f3dde334a0f9",
   "metadata": {},
   "outputs": [
    {
     "name": "stderr",
     "output_type": "stream",
     "text": [
      " 44%|████▍     | 62/141 [01:28<03:20,  2.54s/it]"
     ]
    },
    {
     "name": "stdout",
     "output_type": "stream",
     "text": [
      "61\n",
      "index 927744 is out of bounds for axis 1 with size 927744\n"
     ]
    },
    {
     "name": "stderr",
     "output_type": "stream",
     "text": [
      " 96%|█████████▋| 136/141 [03:07<00:05,  1.01s/it]"
     ]
    },
    {
     "name": "stdout",
     "output_type": "stream",
     "text": [
      "135\n",
      "index 921600 is out of bounds for axis 1 with size 921600\n"
     ]
    },
    {
     "name": "stderr",
     "output_type": "stream",
     "text": [
      " 99%|█████████▊| 139/141 [03:09<00:01,  1.29it/s]"
     ]
    },
    {
     "name": "stdout",
     "output_type": "stream",
     "text": [
      "138\n",
      "index 921600 is out of bounds for axis 1 with size 921600\n"
     ]
    },
    {
     "name": "stderr",
     "output_type": "stream",
     "text": [
      " 99%|█████████▉| 140/141 [03:09<00:00,  1.58it/s]"
     ]
    },
    {
     "name": "stdout",
     "output_type": "stream",
     "text": [
      "139\n",
      "index 921600 is out of bounds for axis 1 with size 921600\n"
     ]
    },
    {
     "name": "stderr",
     "output_type": "stream",
     "text": [
      "100%|██████████| 141/141 [03:10<00:00,  1.35s/it]\n"
     ]
    }
   ],
   "source": [
    "X, classifierpop = seizurevector_retrieval(timestamps, channel1=0, channel2=3)"
   ]
  },
  {
   "cell_type": "code",
   "execution_count": 323,
   "id": "084ae78a-75ce-4da2-b46c-fdc10b4393a8",
   "metadata": {},
   "outputs": [
    {
     "data": {
      "text/plain": [
       "[61, 135, 138, 139]"
      ]
     },
     "execution_count": 323,
     "metadata": {},
     "output_type": "execute_result"
    }
   ],
   "source": [
    "classifierpop"
   ]
  },
  {
   "cell_type": "code",
   "execution_count": 324,
   "id": "ee572f5d-d0eb-404f-b413-37de0c8ffd39",
   "metadata": {},
   "outputs": [],
   "source": [
    "Y = np.delete(Y, classifierpop, axis=0)"
   ]
  },
  {
   "cell_type": "code",
   "execution_count": 8,
   "id": "c69d6bb6-8253-4032-a129-6c1b124c68e1",
   "metadata": {
    "collapsed": true,
    "jupyter": {
     "outputs_hidden": true
    },
    "tags": []
   },
   "outputs": [
    {
     "name": "stderr",
     "output_type": "stream",
     "text": [
      "  8%|▊         | 42/545 [00:39<06:19,  1.32it/s]"
     ]
    },
    {
     "name": "stdout",
     "output_type": "stream",
     "text": [
      "41\n",
      "index 921600 is out of bounds for axis 1 with size 921600\n"
     ]
    },
    {
     "name": "stderr",
     "output_type": "stream",
     "text": [
      "  9%|▉         | 51/545 [00:46<06:13,  1.32it/s]"
     ]
    },
    {
     "name": "stdout",
     "output_type": "stream",
     "text": [
      "50\n",
      "index 921600 is out of bounds for axis 1 with size 921600\n"
     ]
    },
    {
     "name": "stderr",
     "output_type": "stream",
     "text": [
      " 15%|█▍        | 81/545 [01:15<06:01,  1.28it/s]"
     ]
    },
    {
     "name": "stdout",
     "output_type": "stream",
     "text": [
      "80\n",
      "index 921600 is out of bounds for axis 1 with size 921600\n"
     ]
    },
    {
     "name": "stderr",
     "output_type": "stream",
     "text": [
      " 39%|███▉      | 212/545 [04:12<04:11,  1.32it/s]"
     ]
    },
    {
     "name": "stdout",
     "output_type": "stream",
     "text": [
      "211\n",
      "index 921600 is out of bounds for axis 1 with size 921600\n"
     ]
    },
    {
     "name": "stderr",
     "output_type": "stream",
     "text": [
      " 47%|████▋     | 258/545 [05:14<03:55,  1.22it/s]"
     ]
    },
    {
     "name": "stdout",
     "output_type": "stream",
     "text": [
      "257\n",
      "index 921600 is out of bounds for axis 1 with size 921600\n"
     ]
    },
    {
     "name": "stderr",
     "output_type": "stream",
     "text": [
      " 53%|█████▎    | 291/545 [05:46<03:28,  1.22it/s]"
     ]
    },
    {
     "name": "stdout",
     "output_type": "stream",
     "text": [
      "290\n",
      "index 921600 is out of bounds for axis 1 with size 921600\n"
     ]
    },
    {
     "name": "stderr",
     "output_type": "stream",
     "text": [
      " 54%|█████▎    | 292/545 [05:47<02:53,  1.46it/s]"
     ]
    },
    {
     "name": "stdout",
     "output_type": "stream",
     "text": [
      "291\n",
      "index 921600 is out of bounds for axis 1 with size 921600\n"
     ]
    },
    {
     "name": "stderr",
     "output_type": "stream",
     "text": [
      " 54%|█████▍    | 294/545 [05:48<02:40,  1.56it/s]"
     ]
    },
    {
     "name": "stdout",
     "output_type": "stream",
     "text": [
      "293\n",
      "index 921600 is out of bounds for axis 1 with size 921600\n"
     ]
    },
    {
     "name": "stderr",
     "output_type": "stream",
     "text": [
      " 61%|██████    | 333/545 [06:25<02:54,  1.22it/s]"
     ]
    },
    {
     "name": "stdout",
     "output_type": "stream",
     "text": [
      "332\n",
      "index 921600 is out of bounds for axis 1 with size 921600\n"
     ]
    },
    {
     "name": "stderr",
     "output_type": "stream",
     "text": [
      " 63%|██████▎   | 344/545 [06:37<03:07,  1.07it/s]"
     ]
    },
    {
     "name": "stdout",
     "output_type": "stream",
     "text": [
      "343\n",
      "index 921600 is out of bounds for axis 1 with size 921600\n"
     ]
    },
    {
     "name": "stderr",
     "output_type": "stream",
     "text": [
      " 70%|███████   | 384/545 [07:18<02:10,  1.24it/s]"
     ]
    },
    {
     "name": "stdout",
     "output_type": "stream",
     "text": [
      "383\n",
      "index 921600 is out of bounds for axis 1 with size 921600\n"
     ]
    },
    {
     "name": "stderr",
     "output_type": "stream",
     "text": [
      " 78%|███████▊  | 423/545 [07:56<01:36,  1.26it/s]"
     ]
    },
    {
     "name": "stdout",
     "output_type": "stream",
     "text": [
      "422\n",
      "index 921600 is out of bounds for axis 1 with size 921600\n"
     ]
    },
    {
     "name": "stderr",
     "output_type": "stream",
     "text": [
      " 99%|█████████▉| 541/545 [09:57<00:03,  1.23it/s]"
     ]
    },
    {
     "name": "stdout",
     "output_type": "stream",
     "text": [
      "540\n",
      "index 921600 is out of bounds for axis 1 with size 921600\n"
     ]
    },
    {
     "name": "stderr",
     "output_type": "stream",
     "text": [
      "100%|██████████| 545/545 [10:01<00:00,  1.10s/it]\n"
     ]
    }
   ],
   "source": [
    "path = 'nonseizure.csv'\n",
    "X_noseize, _ = non_seizure_retrieval(recordlines, seizurelines, i1=0, i2=3)"
   ]
  },
  {
   "cell_type": "code",
   "execution_count": 325,
   "id": "f89cf253-7aca-4223-9c7f-708412023d98",
   "metadata": {},
   "outputs": [],
   "source": [
    "# Use for debugging purposes\n",
    "\"\"\"X_copy = X[:]\n",
    "newX = np.ones((193, 100, 184))\n",
    "for index, val in enumerate(X_copy):\n",
    "    newX[index] = val\"\"\"\n",
    "# classifierpop = [x for x in classifierpop if x < 197]\n",
    "\n",
    "# X_copy = X[:]\n",
    "# Y_copy = Y[:]\n",
    "# X = X_copy[:]\n",
    "# Y.shape"
   ]
  },
  {
   "cell_type": "code",
   "execution_count": 327,
   "id": "f6cfbde6-ce87-4079-8baf-08675099acf3",
   "metadata": {},
   "outputs": [],
   "source": [
    "X = np.concatenate((X, X_noseize[0:30]))\n",
    "classify_noseize = np.zeros((30, 100))\n",
    "# classify_noseize = np.delete(classify_noseize, classifierpop, axis=0)\n",
    "Y = np.concatenate((Y, classify_noseize))"
   ]
  },
  {
   "cell_type": "code",
   "execution_count": 328,
   "id": "2498eb87-13dd-4962-a54d-3db5321e9999",
   "metadata": {},
   "outputs": [
    {
     "name": "stdout",
     "output_type": "stream",
     "text": [
      "Logits Shape: (223, 100, 24), Labels Shape: (223, 100)\n"
     ]
    }
   ],
   "source": [
    "print(f'Logits Shape: {X.shape}, Labels Shape: {Y.shape}')"
   ]
  },
  {
   "cell_type": "code",
   "execution_count": 302,
   "id": "cd6f1500-2480-4a12-8664-cd76b3016c0e",
   "metadata": {
    "tags": []
   },
   "outputs": [],
   "source": [
    "from tensorflow import keras\n",
    "import tensorflow as tf\n",
    "from tensorflow.keras.models import Sequential\n",
    "from tensorflow.keras.layers import Bidirectional, AveragePooling1D, Dense, BatchNormalization, SimpleRNN, Dropout, LSTM, LeakyReLU\n",
    "from tensorflow.keras.optimizers import Adam\n",
    "from sklearn.preprocessing import MinMaxScaler\n",
    "from sklearn.metrics import mean_squared_error, confusion_matrix\n",
    "from keras.metrics import BinaryAccuracy, TruePositives, FalsePositives, TrueNegatives, FalseNegatives"
   ]
  },
  {
   "cell_type": "code",
   "execution_count": 256,
   "id": "13cc50d9-89f3-4ab3-b23f-7f6c0d9374cd",
   "metadata": {
    "tags": []
   },
   "outputs": [],
   "source": [
    "# Our custom loss' wrapper\n",
    "def custom_loss(recall_weight, spec_weight):\n",
    "\n",
    "    def recall_spec_loss(y_true, y_pred):\n",
    "        return binary_recall_specificity(y_true, y_pred, recall_weight, spec_weight)\n",
    "\n",
    "    # Returns the (y_true, y_pred) loss function\n",
    "    return recall_spec_loss"
   ]
  },
  {
   "cell_type": "code",
   "execution_count": 163,
   "id": "fbbbb069-1dfa-42c6-8b5d-d8b96aa4beb6",
   "metadata": {
    "tags": []
   },
   "outputs": [],
   "source": [
    "def search_create_RNN(hp, hidden_units, dense_units, input_shape, activation):\n",
    "    model = Sequential()\n",
    "    # model.add(BatchNormalization())\n",
    "    model.add(LSTM(hidden_units, activation=hp.Choice('LSTM1Activation', ['relu', 'tanh', 'sigmoid', 'softmax', 'elu', 'softplus', 'softsign', 'selu']), return_sequences=True))\n",
    "    model.add(LSTM(hidden_units, activation=hp.Choice('LSTM2Activation', ['relu', 'tanh', 'sigmoid', 'softmax', 'elu', 'softplus', 'softsign', 'selu']), return_sequences=True))\n",
    "    model.add(AveragePooling1D(pool_size=100))\n",
    "    model.add(Dropout(hp.Float('DropoutRate1', 0, 0.99, step=0.1)))\n",
    "    model.add(Dense(units=dense_units, activation=hp.Choice('Dense1Activation', ['relu', 'tanh', 'sigmoid', 'softmax', 'elu', 'softplus', 'softsign', 'selu'])))\n",
    "    model.add(LeakyReLU())\n",
    "    model.add(Dense(units=dense_units, activation=activation[2]))\n",
    "    model.add(tf.keras.layers.Reshape((100,)))\n",
    "    lr_schedule = tf.keras.optimizers.schedules.ExponentialDecay(\n",
    "    initial_learning_rate=1e-2,\n",
    "    decay_steps=10000,\n",
    "    decay_rate=0.9)\n",
    "    optimizer = Adam(learning_rate=lr_schedule)\n",
    "    model.compile(loss='binary_crossentropy', optimizer=optimizer, metrics=['BinaryAccuracy'])\n",
    "    return model"
   ]
  },
  {
   "cell_type": "code",
   "execution_count": 257,
   "id": "eafb0601-65eb-4e44-aba3-eaa3c3d822cb",
   "metadata": {
    "tags": []
   },
   "outputs": [],
   "source": [
    "def create_RNN(hidden_units, dense_units, input_shape, activation):\n",
    "    model = Sequential()\n",
    "    # model.add(BatchNormalization())\n",
    "    model.add(LSTM(hidden_units, activation=activation[0], return_sequences=True))\n",
    "    model.add(LSTM(hidden_units, activation=activation[0], return_sequences=True))\n",
    "    model.add(AveragePooling1D(pool_size=100))\n",
    "    model.add(Dense(units=dense_units, activation=activation[1]))\n",
    "    model.add(LeakyReLU())\n",
    "    model.add(Dense(units=dense_units, activation=activation[2]))\n",
    "    model.add(tf.keras.layers.Reshape((100,)))\n",
    "    lr_schedule = tf.keras.optimizers.schedules.CosineDecay(\n",
    "    initial_learning_rate=1e-2,\n",
    "    decay_steps=20000)\n",
    "    optimizer = Adam(learning_rate=lr_schedule)\n",
    "    model.compile(loss='binary_crossentropy', optimizer=optimizer, metrics=['BinaryAccuracy', 'Recall', 'Precision'])\n",
    "    return model"
   ]
  },
  {
   "cell_type": "code",
   "execution_count": 167,
   "id": "184d9bfe-a69a-43ee-82d1-38c03cc6e4dc",
   "metadata": {
    "collapsed": true,
    "jupyter": {
     "outputs_hidden": true
    },
    "tags": []
   },
   "outputs": [
    {
     "data": {
      "image/png": "[encoded data removed]",
      "text/plain": [
       "<IPython.core.display.Image object>"
      ]
     },
     "execution_count": 167,
     "metadata": {},
     "output_type": "execute_result"
    }
   ],
   "source": [
    "n_samples = 10\n",
    "n_timesteps = 100\n",
    "n_features = 3 * 8\n",
    "model = create_RNN(2, n_timesteps, (n_timesteps, n_features), activation=['tanh', 'tanh', 'sigmoid'])\n",
    "model.build((n_timesteps, n_timesteps, n_features))\n",
    "tf.keras.utils.plot_model(model, show_shapes=True)"
   ]
  },
  {
   "cell_type": "code",
   "execution_count": 329,
   "id": "3c81bcb2-fce0-4e03-8ef1-a7dfb464ed03",
   "metadata": {},
   "outputs": [],
   "source": [
    "from sklearn.model_selection import train_test_split\n",
    "X_train, X_test, Y_train, Y_test = train_test_split(X, Y, test_size=0.2, random_state=20, shuffle=True)"
   ]
  },
  {
   "cell_type": "code",
   "execution_count": 53,
   "id": "eb5c1526-1c11-4461-9ce9-b2cd7055118b",
   "metadata": {
    "collapsed": true,
    "jupyter": {
     "outputs_hidden": true
    },
    "tags": []
   },
   "outputs": [
    {
     "ename": "TypeError",
     "evalue": "create_RNN() got multiple values for argument 'activation'",
     "output_type": "error",
     "traceback": [
      "\u001b[0;31m---------------------------------------------------------------------------\u001b[0m",
      "\u001b[0;31mTypeError\u001b[0m                                 Traceback (most recent call last)",
      "\u001b[0;32m/tmp/ipykernel_2454/3892997446.py\u001b[0m in \u001b[0;36m<module>\u001b[0;34m\u001b[0m\n\u001b[1;32m     10\u001b[0m     \u001b[0moverwrite\u001b[0m\u001b[0;34m=\u001b[0m\u001b[0;32mTrue\u001b[0m\u001b[0;34m,\u001b[0m\u001b[0;34m\u001b[0m\u001b[0;34m\u001b[0m\u001b[0m\n\u001b[1;32m     11\u001b[0m     \u001b[0mdirectory\u001b[0m\u001b[0;34m=\u001b[0m\u001b[0;34m\"my_dir\"\u001b[0m\u001b[0;34m,\u001b[0m\u001b[0;34m\u001b[0m\u001b[0;34m\u001b[0m\u001b[0m\n\u001b[0;32m---> 12\u001b[0;31m     \u001b[0mproject_name\u001b[0m\u001b[0;34m=\u001b[0m\u001b[0;34m\"helloworld\"\u001b[0m\u001b[0;34m,\u001b[0m\u001b[0;34m\u001b[0m\u001b[0;34m\u001b[0m\u001b[0m\n\u001b[0m\u001b[1;32m     13\u001b[0m )\n\u001b[1;32m     14\u001b[0m \u001b[0;34m\u001b[0m\u001b[0m\n",
      "\u001b[0;32m/opt/conda/lib/python3.7/site-packages/keras_tuner/tuners/randomsearch.py\u001b[0m in \u001b[0;36m__init__\u001b[0;34m(self, hypermodel, objective, max_trials, seed, hyperparameters, tune_new_entries, allow_new_entries, **kwargs)\u001b[0m\n\u001b[1;32m    135\u001b[0m             \u001b[0mallow_new_entries\u001b[0m\u001b[0;34m=\u001b[0m\u001b[0mallow_new_entries\u001b[0m\u001b[0;34m,\u001b[0m\u001b[0;34m\u001b[0m\u001b[0;34m\u001b[0m\u001b[0m\n\u001b[1;32m    136\u001b[0m         )\n\u001b[0;32m--> 137\u001b[0;31m         \u001b[0msuper\u001b[0m\u001b[0;34m(\u001b[0m\u001b[0mRandomSearch\u001b[0m\u001b[0;34m,\u001b[0m \u001b[0mself\u001b[0m\u001b[0;34m)\u001b[0m\u001b[0;34m.\u001b[0m\u001b[0m__init__\u001b[0m\u001b[0;34m(\u001b[0m\u001b[0moracle\u001b[0m\u001b[0;34m,\u001b[0m \u001b[0mhypermodel\u001b[0m\u001b[0;34m,\u001b[0m \u001b[0;34m**\u001b[0m\u001b[0mkwargs\u001b[0m\u001b[0;34m)\u001b[0m\u001b[0;34m\u001b[0m\u001b[0;34m\u001b[0m\u001b[0m\n\u001b[0m",
      "\u001b[0;32m/opt/conda/lib/python3.7/site-packages/keras_tuner/engine/tuner.py\u001b[0m in \u001b[0;36m__init__\u001b[0;34m(self, oracle, hypermodel, max_model_size, optimizer, loss, metrics, distribution_strategy, directory, project_name, logger, tuner_id, overwrite, executions_per_trial)\u001b[0m\n\u001b[1;32m    115\u001b[0m             \u001b[0mproject_name\u001b[0m\u001b[0;34m=\u001b[0m\u001b[0mproject_name\u001b[0m\u001b[0;34m,\u001b[0m\u001b[0;34m\u001b[0m\u001b[0;34m\u001b[0m\u001b[0m\n\u001b[1;32m    116\u001b[0m             \u001b[0mlogger\u001b[0m\u001b[0;34m=\u001b[0m\u001b[0mlogger\u001b[0m\u001b[0;34m,\u001b[0m\u001b[0;34m\u001b[0m\u001b[0;34m\u001b[0m\u001b[0m\n\u001b[0;32m--> 117\u001b[0;31m             \u001b[0moverwrite\u001b[0m\u001b[0;34m=\u001b[0m\u001b[0moverwrite\u001b[0m\u001b[0;34m,\u001b[0m\u001b[0;34m\u001b[0m\u001b[0;34m\u001b[0m\u001b[0m\n\u001b[0m\u001b[1;32m    118\u001b[0m         )\n\u001b[1;32m    119\u001b[0m \u001b[0;34m\u001b[0m\u001b[0m\n",
      "\u001b[0;32m/opt/conda/lib/python3.7/site-packages/keras_tuner/engine/base_tuner.py\u001b[0m in \u001b[0;36m__init__\u001b[0;34m(self, oracle, hypermodel, directory, project_name, logger, overwrite)\u001b[0m\n\u001b[1;32m    101\u001b[0m         \u001b[0mself\u001b[0m\u001b[0;34m.\u001b[0m\u001b[0m_display\u001b[0m \u001b[0;34m=\u001b[0m \u001b[0mtuner_utils\u001b[0m\u001b[0;34m.\u001b[0m\u001b[0mDisplay\u001b[0m\u001b[0;34m(\u001b[0m\u001b[0moracle\u001b[0m\u001b[0;34m=\u001b[0m\u001b[0mself\u001b[0m\u001b[0;34m.\u001b[0m\u001b[0moracle\u001b[0m\u001b[0;34m)\u001b[0m\u001b[0;34m\u001b[0m\u001b[0;34m\u001b[0m\u001b[0m\n\u001b[1;32m    102\u001b[0m \u001b[0;34m\u001b[0m\u001b[0m\n\u001b[0;32m--> 103\u001b[0;31m         \u001b[0mself\u001b[0m\u001b[0;34m.\u001b[0m\u001b[0m_populate_initial_space\u001b[0m\u001b[0;34m(\u001b[0m\u001b[0;34m)\u001b[0m\u001b[0;34m\u001b[0m\u001b[0;34m\u001b[0m\u001b[0m\n\u001b[0m\u001b[1;32m    104\u001b[0m \u001b[0;34m\u001b[0m\u001b[0m\n\u001b[1;32m    105\u001b[0m         \u001b[0;32mif\u001b[0m \u001b[0;32mnot\u001b[0m \u001b[0moverwrite\u001b[0m \u001b[0;32mand\u001b[0m \u001b[0mtf\u001b[0m\u001b[0;34m.\u001b[0m\u001b[0mio\u001b[0m\u001b[0;34m.\u001b[0m\u001b[0mgfile\u001b[0m\u001b[0;34m.\u001b[0m\u001b[0mexists\u001b[0m\u001b[0;34m(\u001b[0m\u001b[0mself\u001b[0m\u001b[0;34m.\u001b[0m\u001b[0m_get_tuner_fname\u001b[0m\u001b[0;34m(\u001b[0m\u001b[0;34m)\u001b[0m\u001b[0;34m)\u001b[0m\u001b[0;34m:\u001b[0m\u001b[0;34m\u001b[0m\u001b[0;34m\u001b[0m\u001b[0m\n",
      "\u001b[0;32m/opt/conda/lib/python3.7/site-packages/keras_tuner/engine/base_tuner.py\u001b[0m in \u001b[0;36m_populate_initial_space\u001b[0;34m(self)\u001b[0m\n\u001b[1;32m    130\u001b[0m \u001b[0;34m\u001b[0m\u001b[0m\n\u001b[1;32m    131\u001b[0m         \u001b[0;32mwhile\u001b[0m \u001b[0;32mTrue\u001b[0m\u001b[0;34m:\u001b[0m\u001b[0;34m\u001b[0m\u001b[0;34m\u001b[0m\u001b[0m\n\u001b[0;32m--> 132\u001b[0;31m             \u001b[0mself\u001b[0m\u001b[0;34m.\u001b[0m\u001b[0mhypermodel\u001b[0m\u001b[0;34m.\u001b[0m\u001b[0mbuild\u001b[0m\u001b[0;34m(\u001b[0m\u001b[0mhp\u001b[0m\u001b[0;34m)\u001b[0m\u001b[0;34m\u001b[0m\u001b[0;34m\u001b[0m\u001b[0m\n\u001b[0m\u001b[1;32m    133\u001b[0m \u001b[0;34m\u001b[0m\u001b[0m\n\u001b[1;32m    134\u001b[0m             \u001b[0;31m# Update the recored scopes.\u001b[0m\u001b[0;34m\u001b[0m\u001b[0;34m\u001b[0m\u001b[0;34m\u001b[0m\u001b[0m\n",
      "\u001b[0;32m/tmp/ipykernel_2454/3892997446.py\u001b[0m in \u001b[0;36mbuild_model\u001b[0;34m(hp)\u001b[0m\n\u001b[1;32m      2\u001b[0m \u001b[0;34m\u001b[0m\u001b[0m\n\u001b[1;32m      3\u001b[0m \u001b[0;32mdef\u001b[0m \u001b[0mbuild_model\u001b[0m\u001b[0;34m(\u001b[0m\u001b[0mhp\u001b[0m\u001b[0;34m)\u001b[0m\u001b[0;34m:\u001b[0m\u001b[0;34m\u001b[0m\u001b[0;34m\u001b[0m\u001b[0m\n\u001b[0;32m----> 4\u001b[0;31m     \u001b[0;32mreturn\u001b[0m \u001b[0mcreate_RNN\u001b[0m\u001b[0;34m(\u001b[0m\u001b[0mhp\u001b[0m\u001b[0;34m,\u001b[0m \u001b[0;36m2\u001b[0m\u001b[0;34m,\u001b[0m \u001b[0mn_timesteps\u001b[0m\u001b[0;34m,\u001b[0m \u001b[0;34m(\u001b[0m\u001b[0mn_timesteps\u001b[0m\u001b[0;34m,\u001b[0m \u001b[0mn_features\u001b[0m\u001b[0;34m)\u001b[0m\u001b[0;34m,\u001b[0m \u001b[0mactivation\u001b[0m\u001b[0;34m=\u001b[0m\u001b[0;34m[\u001b[0m\u001b[0;34m'tanh'\u001b[0m\u001b[0;34m,\u001b[0m \u001b[0;34m'tanh'\u001b[0m\u001b[0;34m,\u001b[0m \u001b[0;34m'sigmoid'\u001b[0m\u001b[0;34m]\u001b[0m\u001b[0;34m)\u001b[0m\u001b[0;34m\u001b[0m\u001b[0;34m\u001b[0m\u001b[0m\n\u001b[0m\u001b[1;32m      5\u001b[0m \u001b[0;34m\u001b[0m\u001b[0m\n\u001b[1;32m      6\u001b[0m tuner = kt.RandomSearch(\n",
      "\u001b[0;31mTypeError\u001b[0m: create_RNN() got multiple values for argument 'activation'"
     ]
    }
   ],
   "source": [
    "import keras_tuner as kt\n",
    "\n",
    "def build_model(hp):\n",
    "    return create_RNN(hp, 2, n_timesteps, (n_timesteps, n_features), activation=['tanh', 'tanh', 'sigmoid'])\n",
    "\n",
    "tuner = kt.RandomSearch(\n",
    "    hypermodel=build_model,\n",
    "    objective=\"binary_accuracy\",\n",
    "    executions_per_trial=2,\n",
    "    overwrite=True,\n",
    "    directory=\"my_dir\",\n",
    "    project_name=\"helloworld\",\n",
    ")\n",
    "\n",
    "tuner.search(X_train, Y_train, epochs=2, validation_data=(X_test,Y_test))"
   ]
  },
  {
   "cell_type": "code",
   "execution_count": 134,
   "id": "c104a6f8-b7a2-4d53-8662-da292398034b",
   "metadata": {
    "collapsed": true,
    "jupyter": {
     "outputs_hidden": true
    },
    "tags": []
   },
   "outputs": [
    {
     "name": "stdout",
     "output_type": "stream",
     "text": [
      "Epoch 1/100\n",
      "2/2 - 4s - loss: 0.6934 - binary_accuracy: 0.4409 - recall: 0.1195 - precision: 0.3846 - 4s/epoch - 2s/step\n",
      "Epoch 2/100\n",
      "2/2 - 0s - loss: 0.6931 - binary_accuracy: 0.5043 - recall: 0.7480 - precision: 0.5173 - 178ms/epoch - 89ms/step\n",
      "Epoch 3/100\n",
      "2/2 - 0s - loss: 0.6930 - binary_accuracy: 0.5174 - recall: 0.8857 - precision: 0.5221 - 180ms/epoch - 90ms/step\n",
      "Epoch 4/100\n",
      "2/2 - 0s - loss: 0.6927 - binary_accuracy: 0.5215 - recall: 0.9759 - precision: 0.5222 - 178ms/epoch - 89ms/step\n",
      "Epoch 5/100\n",
      "2/2 - 0s - loss: 0.6925 - binary_accuracy: 0.5217 - recall: 1.0000 - precision: 0.5217 - 177ms/epoch - 88ms/step\n",
      "Epoch 6/100\n",
      "2/2 - 0s - loss: 0.6924 - binary_accuracy: 0.5217 - recall: 1.0000 - precision: 0.5217 - 178ms/epoch - 89ms/step\n",
      "Epoch 7/100\n",
      "2/2 - 0s - loss: 0.6924 - binary_accuracy: 0.5217 - recall: 1.0000 - precision: 0.5217 - 183ms/epoch - 91ms/step\n",
      "Epoch 8/100\n",
      "2/2 - 0s - loss: 0.6923 - binary_accuracy: 0.5217 - recall: 1.0000 - precision: 0.5217 - 185ms/epoch - 93ms/step\n",
      "Epoch 9/100\n",
      "2/2 - 0s - loss: 0.6922 - binary_accuracy: 0.5217 - recall: 1.0000 - precision: 0.5217 - 177ms/epoch - 89ms/step\n",
      "Epoch 10/100\n",
      "2/2 - 0s - loss: 0.6922 - binary_accuracy: 0.5217 - recall: 1.0000 - precision: 0.5217 - 179ms/epoch - 89ms/step\n",
      "Epoch 11/100\n",
      "2/2 - 0s - loss: 0.6922 - binary_accuracy: 0.5217 - recall: 1.0000 - precision: 0.5217 - 181ms/epoch - 91ms/step\n",
      "Epoch 12/100\n",
      "2/2 - 0s - loss: 0.6923 - binary_accuracy: 0.5217 - recall: 1.0000 - precision: 0.5217 - 183ms/epoch - 91ms/step\n",
      "Epoch 13/100\n",
      "2/2 - 0s - loss: 0.6925 - binary_accuracy: 0.5217 - recall: 1.0000 - precision: 0.5217 - 179ms/epoch - 90ms/step\n",
      "Epoch 14/100\n",
      "2/2 - 0s - loss: 0.6930 - binary_accuracy: 0.5115 - recall: 0.8493 - precision: 0.5195 - 182ms/epoch - 91ms/step\n",
      "Epoch 15/100\n",
      "2/2 - 0s - loss: 0.6930 - binary_accuracy: 0.5100 - recall: 0.7348 - precision: 0.5216 - 179ms/epoch - 89ms/step\n",
      "Epoch 16/100\n",
      "2/2 - 0s - loss: 0.6930 - binary_accuracy: 0.5115 - recall: 0.7506 - precision: 0.5221 - 177ms/epoch - 88ms/step\n",
      "Epoch 17/100\n",
      "2/2 - 0s - loss: 0.6929 - binary_accuracy: 0.5169 - recall: 0.8694 - precision: 0.5222 - 181ms/epoch - 90ms/step\n",
      "Epoch 18/100\n",
      "2/2 - 0s - loss: 0.6927 - binary_accuracy: 0.5215 - recall: 0.9918 - precision: 0.5218 - 187ms/epoch - 94ms/step\n",
      "Epoch 19/100\n",
      "2/2 - 0s - loss: 0.6926 - binary_accuracy: 0.5217 - recall: 1.0000 - precision: 0.5217 - 182ms/epoch - 91ms/step\n",
      "Epoch 20/100\n",
      "2/2 - 0s - loss: 0.6924 - binary_accuracy: 0.5217 - recall: 1.0000 - precision: 0.5217 - 181ms/epoch - 91ms/step\n",
      "Epoch 21/100\n",
      "2/2 - 0s - loss: 0.6925 - binary_accuracy: 0.5217 - recall: 1.0000 - precision: 0.5217 - 177ms/epoch - 88ms/step\n",
      "Epoch 22/100\n",
      "2/2 - 0s - loss: 0.6923 - binary_accuracy: 0.5217 - recall: 1.0000 - precision: 0.5217 - 176ms/epoch - 88ms/step\n",
      "Epoch 23/100\n",
      "2/2 - 0s - loss: 0.6923 - binary_accuracy: 0.5217 - recall: 1.0000 - precision: 0.5217 - 179ms/epoch - 90ms/step\n",
      "Epoch 24/100\n",
      "2/2 - 0s - loss: 0.6923 - binary_accuracy: 0.5217 - recall: 1.0000 - precision: 0.5217 - 178ms/epoch - 89ms/step\n",
      "Epoch 25/100\n",
      "2/2 - 0s - loss: 0.6922 - binary_accuracy: 0.5217 - recall: 1.0000 - precision: 0.5217 - 182ms/epoch - 91ms/step\n",
      "Epoch 26/100\n",
      "2/2 - 0s - loss: 0.6923 - binary_accuracy: 0.5217 - recall: 1.0000 - precision: 0.5217 - 182ms/epoch - 91ms/step\n",
      "Epoch 27/100\n",
      "2/2 - 0s - loss: 0.6923 - binary_accuracy: 0.5217 - recall: 1.0000 - precision: 0.5217 - 176ms/epoch - 88ms/step\n",
      "Epoch 28/100\n",
      "2/2 - 0s - loss: 0.6923 - binary_accuracy: 0.5217 - recall: 1.0000 - precision: 0.5217 - 178ms/epoch - 89ms/step\n",
      "Epoch 29/100\n",
      "2/2 - 0s - loss: 0.6924 - binary_accuracy: 0.5217 - recall: 1.0000 - precision: 0.5217 - 178ms/epoch - 89ms/step\n",
      "Epoch 30/100\n",
      "2/2 - 0s - loss: 0.6924 - binary_accuracy: 0.5217 - recall: 1.0000 - precision: 0.5217 - 178ms/epoch - 89ms/step\n",
      "Epoch 31/100\n",
      "2/2 - 0s - loss: 0.6923 - binary_accuracy: 0.5217 - recall: 1.0000 - precision: 0.5217 - 176ms/epoch - 88ms/step\n",
      "Epoch 32/100\n",
      "2/2 - 0s - loss: 0.6924 - binary_accuracy: 0.5217 - recall: 1.0000 - precision: 0.5217 - 176ms/epoch - 88ms/step\n",
      "Epoch 33/100\n",
      "2/2 - 0s - loss: 0.6923 - binary_accuracy: 0.5217 - recall: 1.0000 - precision: 0.5217 - 179ms/epoch - 89ms/step\n",
      "Epoch 34/100\n",
      "2/2 - 0s - loss: 0.6923 - binary_accuracy: 0.5217 - recall: 1.0000 - precision: 0.5217 - 181ms/epoch - 90ms/step\n",
      "Epoch 35/100\n",
      "2/2 - 0s - loss: 0.6923 - binary_accuracy: 0.5217 - recall: 1.0000 - precision: 0.5217 - 178ms/epoch - 89ms/step\n",
      "Epoch 36/100\n",
      "2/2 - 0s - loss: 0.6923 - binary_accuracy: 0.5217 - recall: 1.0000 - precision: 0.5217 - 176ms/epoch - 88ms/step\n",
      "Epoch 37/100\n",
      "2/2 - 0s - loss: 0.6923 - binary_accuracy: 0.5217 - recall: 1.0000 - precision: 0.5217 - 175ms/epoch - 87ms/step\n",
      "Epoch 38/100\n",
      "2/2 - 0s - loss: 0.6922 - binary_accuracy: 0.5217 - recall: 1.0000 - precision: 0.5217 - 178ms/epoch - 89ms/step\n",
      "Epoch 39/100\n",
      "2/2 - 0s - loss: 0.6922 - binary_accuracy: 0.5217 - recall: 1.0000 - precision: 0.5217 - 180ms/epoch - 90ms/step\n",
      "Epoch 40/100\n",
      "2/2 - 0s - loss: 0.6922 - binary_accuracy: 0.5217 - recall: 1.0000 - precision: 0.5217 - 177ms/epoch - 89ms/step\n",
      "Epoch 41/100\n",
      "2/2 - 0s - loss: 0.6922 - binary_accuracy: 0.5217 - recall: 1.0000 - precision: 0.5217 - 174ms/epoch - 87ms/step\n",
      "Epoch 42/100\n",
      "2/2 - 0s - loss: 0.6922 - binary_accuracy: 0.5217 - recall: 1.0000 - precision: 0.5217 - 180ms/epoch - 90ms/step\n",
      "Epoch 43/100\n",
      "2/2 - 0s - loss: 0.6922 - binary_accuracy: 0.5217 - recall: 1.0000 - precision: 0.5217 - 180ms/epoch - 90ms/step\n",
      "Epoch 44/100\n",
      "2/2 - 0s - loss: 0.6922 - binary_accuracy: 0.5217 - recall: 1.0000 - precision: 0.5217 - 182ms/epoch - 91ms/step\n",
      "Epoch 45/100\n",
      "2/2 - 0s - loss: 0.6922 - binary_accuracy: 0.5217 - recall: 1.0000 - precision: 0.5217 - 177ms/epoch - 88ms/step\n",
      "Epoch 46/100\n",
      "2/2 - 0s - loss: 0.6922 - binary_accuracy: 0.5217 - recall: 1.0000 - precision: 0.5217 - 177ms/epoch - 88ms/step\n",
      "Epoch 47/100\n",
      "2/2 - 0s - loss: 0.6922 - binary_accuracy: 0.5217 - recall: 1.0000 - precision: 0.5217 - 176ms/epoch - 88ms/step\n",
      "Epoch 48/100\n",
      "2/2 - 0s - loss: 0.6922 - binary_accuracy: 0.5217 - recall: 1.0000 - precision: 0.5217 - 174ms/epoch - 87ms/step\n",
      "Epoch 49/100\n",
      "2/2 - 0s - loss: 0.6922 - binary_accuracy: 0.5217 - recall: 1.0000 - precision: 0.5217 - 179ms/epoch - 90ms/step\n",
      "Epoch 50/100\n",
      "2/2 - 0s - loss: 0.6922 - binary_accuracy: 0.5217 - recall: 1.0000 - precision: 0.5217 - 179ms/epoch - 89ms/step\n",
      "Epoch 51/100\n",
      "2/2 - 0s - loss: 0.6922 - binary_accuracy: 0.5217 - recall: 1.0000 - precision: 0.5217 - 174ms/epoch - 87ms/step\n",
      "Epoch 52/100\n",
      "2/2 - 0s - loss: 0.6922 - binary_accuracy: 0.5217 - recall: 1.0000 - precision: 0.5217 - 180ms/epoch - 90ms/step\n",
      "Epoch 53/100\n",
      "2/2 - 0s - loss: 0.6922 - binary_accuracy: 0.5217 - recall: 1.0000 - precision: 0.5217 - 178ms/epoch - 89ms/step\n",
      "Epoch 54/100\n",
      "2/2 - 0s - loss: 0.6922 - binary_accuracy: 0.5217 - recall: 1.0000 - precision: 0.5217 - 180ms/epoch - 90ms/step\n",
      "Epoch 55/100\n",
      "2/2 - 0s - loss: 0.6922 - binary_accuracy: 0.5217 - recall: 1.0000 - precision: 0.5217 - 179ms/epoch - 89ms/step\n",
      "Epoch 56/100\n",
      "2/2 - 0s - loss: 0.6922 - binary_accuracy: 0.5217 - recall: 1.0000 - precision: 0.5217 - 179ms/epoch - 89ms/step\n",
      "Epoch 57/100\n",
      "2/2 - 0s - loss: 0.6922 - binary_accuracy: 0.5217 - recall: 1.0000 - precision: 0.5217 - 177ms/epoch - 88ms/step\n",
      "Epoch 58/100\n",
      "2/2 - 0s - loss: 0.6922 - binary_accuracy: 0.5217 - recall: 1.0000 - precision: 0.5217 - 179ms/epoch - 89ms/step\n",
      "Epoch 59/100\n",
      "2/2 - 0s - loss: 0.6923 - binary_accuracy: 0.5217 - recall: 1.0000 - precision: 0.5217 - 177ms/epoch - 89ms/step\n",
      "Epoch 60/100\n",
      "2/2 - 0s - loss: 0.6924 - binary_accuracy: 0.5217 - recall: 1.0000 - precision: 0.5217 - 176ms/epoch - 88ms/step\n",
      "Epoch 61/100\n",
      "2/2 - 0s - loss: 0.6927 - binary_accuracy: 0.5217 - recall: 1.0000 - precision: 0.5217 - 178ms/epoch - 89ms/step\n",
      "Epoch 62/100\n",
      "2/2 - 0s - loss: 0.6927 - binary_accuracy: 0.5217 - recall: 1.0000 - precision: 0.5217 - 182ms/epoch - 91ms/step\n",
      "Epoch 63/100\n",
      "2/2 - 0s - loss: 0.6927 - binary_accuracy: 0.5217 - recall: 1.0000 - precision: 0.5217 - 176ms/epoch - 88ms/step\n",
      "Epoch 64/100\n",
      "2/2 - 0s - loss: 0.6925 - binary_accuracy: 0.5217 - recall: 1.0000 - precision: 0.5217 - 180ms/epoch - 90ms/step\n",
      "Epoch 65/100\n",
      "2/2 - 0s - loss: 0.6925 - binary_accuracy: 0.5217 - recall: 1.0000 - precision: 0.5217 - 184ms/epoch - 92ms/step\n",
      "Epoch 66/100\n",
      "2/2 - 0s - loss: 0.6924 - binary_accuracy: 0.5217 - recall: 1.0000 - precision: 0.5217 - 179ms/epoch - 90ms/step\n",
      "Epoch 67/100\n",
      "2/2 - 0s - loss: 0.6924 - binary_accuracy: 0.5217 - recall: 1.0000 - precision: 0.5217 - 179ms/epoch - 90ms/step\n",
      "Epoch 68/100\n",
      "2/2 - 0s - loss: 0.6923 - binary_accuracy: 0.5217 - recall: 1.0000 - precision: 0.5217 - 177ms/epoch - 89ms/step\n",
      "Epoch 69/100\n",
      "2/2 - 0s - loss: 0.6923 - binary_accuracy: 0.5217 - recall: 1.0000 - precision: 0.5217 - 177ms/epoch - 89ms/step\n",
      "Epoch 70/100\n",
      "2/2 - 0s - loss: 0.6923 - binary_accuracy: 0.5217 - recall: 1.0000 - precision: 0.5217 - 181ms/epoch - 90ms/step\n",
      "Epoch 71/100\n",
      "2/2 - 0s - loss: 0.6923 - binary_accuracy: 0.5217 - recall: 1.0000 - precision: 0.5217 - 177ms/epoch - 88ms/step\n",
      "Epoch 72/100\n",
      "2/2 - 0s - loss: 0.6922 - binary_accuracy: 0.5217 - recall: 1.0000 - precision: 0.5217 - 176ms/epoch - 88ms/step\n",
      "Epoch 73/100\n",
      "2/2 - 0s - loss: 0.6923 - binary_accuracy: 0.5217 - recall: 1.0000 - precision: 0.5217 - 178ms/epoch - 89ms/step\n",
      "Epoch 74/100\n",
      "2/2 - 0s - loss: 0.6922 - binary_accuracy: 0.5217 - recall: 1.0000 - precision: 0.5217 - 181ms/epoch - 91ms/step\n",
      "Epoch 75/100\n",
      "2/2 - 0s - loss: 0.6923 - binary_accuracy: 0.5217 - recall: 1.0000 - precision: 0.5217 - 176ms/epoch - 88ms/step\n",
      "Epoch 76/100\n",
      "2/2 - 0s - loss: 0.6922 - binary_accuracy: 0.5217 - recall: 1.0000 - precision: 0.5217 - 175ms/epoch - 88ms/step\n",
      "Epoch 77/100\n",
      "2/2 - 0s - loss: 0.6922 - binary_accuracy: 0.5217 - recall: 1.0000 - precision: 0.5217 - 177ms/epoch - 89ms/step\n",
      "Epoch 78/100\n",
      "2/2 - 0s - loss: 0.6922 - binary_accuracy: 0.5217 - recall: 1.0000 - precision: 0.5217 - 175ms/epoch - 87ms/step\n",
      "Epoch 79/100\n",
      "2/2 - 0s - loss: 0.6922 - binary_accuracy: 0.5217 - recall: 1.0000 - precision: 0.5217 - 176ms/epoch - 88ms/step\n",
      "Epoch 80/100\n",
      "2/2 - 0s - loss: 0.6922 - binary_accuracy: 0.5217 - recall: 1.0000 - precision: 0.5217 - 176ms/epoch - 88ms/step\n",
      "Epoch 81/100\n",
      "2/2 - 0s - loss: 0.6922 - binary_accuracy: 0.5217 - recall: 1.0000 - precision: 0.5217 - 178ms/epoch - 89ms/step\n",
      "Epoch 82/100\n",
      "2/2 - 0s - loss: 0.6923 - binary_accuracy: 0.5217 - recall: 1.0000 - precision: 0.5217 - 179ms/epoch - 90ms/step\n",
      "Epoch 83/100\n",
      "2/2 - 0s - loss: 0.6922 - binary_accuracy: 0.5217 - recall: 1.0000 - precision: 0.5217 - 182ms/epoch - 91ms/step\n",
      "Epoch 84/100\n",
      "2/2 - 0s - loss: 0.6922 - binary_accuracy: 0.5217 - recall: 1.0000 - precision: 0.5217 - 183ms/epoch - 91ms/step\n",
      "Epoch 85/100\n",
      "2/2 - 0s - loss: 0.6922 - binary_accuracy: 0.5217 - recall: 1.0000 - precision: 0.5217 - 178ms/epoch - 89ms/step\n",
      "Epoch 86/100\n",
      "2/2 - 0s - loss: 0.6922 - binary_accuracy: 0.5217 - recall: 1.0000 - precision: 0.5217 - 179ms/epoch - 90ms/step\n",
      "Epoch 87/100\n",
      "2/2 - 0s - loss: 0.6922 - binary_accuracy: 0.5217 - recall: 1.0000 - precision: 0.5217 - 177ms/epoch - 89ms/step\n",
      "Epoch 88/100\n",
      "2/2 - 0s - loss: 0.6923 - binary_accuracy: 0.5217 - recall: 1.0000 - precision: 0.5217 - 178ms/epoch - 89ms/step\n",
      "Epoch 89/100\n",
      "2/2 - 0s - loss: 0.6922 - binary_accuracy: 0.5217 - recall: 1.0000 - precision: 0.5217 - 179ms/epoch - 90ms/step\n",
      "Epoch 90/100\n",
      "2/2 - 0s - loss: 0.6923 - binary_accuracy: 0.5217 - recall: 1.0000 - precision: 0.5217 - 176ms/epoch - 88ms/step\n",
      "Epoch 91/100\n",
      "2/2 - 0s - loss: 0.6922 - binary_accuracy: 0.5217 - recall: 1.0000 - precision: 0.5217 - 178ms/epoch - 89ms/step\n",
      "Epoch 92/100\n",
      "2/2 - 0s - loss: 0.6922 - binary_accuracy: 0.5217 - recall: 1.0000 - precision: 0.5217 - 178ms/epoch - 89ms/step\n",
      "Epoch 93/100\n",
      "2/2 - 0s - loss: 0.6922 - binary_accuracy: 0.5217 - recall: 1.0000 - precision: 0.5217 - 177ms/epoch - 88ms/step\n",
      "Epoch 94/100\n",
      "2/2 - 0s - loss: 0.6922 - binary_accuracy: 0.5217 - recall: 1.0000 - precision: 0.5217 - 179ms/epoch - 89ms/step\n",
      "Epoch 95/100\n",
      "2/2 - 0s - loss: 0.6923 - binary_accuracy: 0.5217 - recall: 1.0000 - precision: 0.5217 - 177ms/epoch - 89ms/step\n",
      "Epoch 96/100\n",
      "2/2 - 0s - loss: 0.6922 - binary_accuracy: 0.5217 - recall: 1.0000 - precision: 0.5217 - 180ms/epoch - 90ms/step\n",
      "Epoch 97/100\n",
      "2/2 - 0s - loss: 0.6922 - binary_accuracy: 0.5217 - recall: 1.0000 - precision: 0.5217 - 173ms/epoch - 87ms/step\n",
      "Epoch 98/100\n",
      "2/2 - 0s - loss: 0.6924 - binary_accuracy: 0.5217 - recall: 1.0000 - precision: 0.5217 - 174ms/epoch - 87ms/step\n",
      "Epoch 99/100\n",
      "2/2 - 0s - loss: 0.6923 - binary_accuracy: 0.5217 - recall: 1.0000 - precision: 0.5217 - 175ms/epoch - 88ms/step\n",
      "Epoch 100/100\n",
      "2/2 - 0s - loss: 0.6922 - binary_accuracy: 0.5217 - recall: 1.0000 - precision: 0.5217 - 172ms/epoch - 86ms/step\n"
     ]
    }
   ],
   "source": [
    "from keras.callbacks import ReduceLROnPlateau, EarlyStopping\n",
    "reduce_lr = ReduceLROnPlateau(monitor='loss', factor=0.2,\n",
    "                              patience=5, min_lr=0.01)\n",
    "earlystop = EarlyStopping(monitor='loss', patience=10, min_delta=0.0001)\n",
    "history = model.fit(X_train, Y_train, epochs=100, batch_size=256,verbose=2)"
   ]
  },
  {
   "cell_type": "code",
   "execution_count": 344,
   "id": "1edb37d0-1558-4b15-885c-1e916c649d3e",
   "metadata": {
    "tags": []
   },
   "outputs": [
    {
     "data": {
      "text/plain": [
       "Text(0.5, 0, 'Epochs')"
      ]
     },
     "execution_count": 344,
     "metadata": {},
     "output_type": "execute_result"
    },
    {
     "data": {
      "image/png": "[encoded data removed]",
      "text/plain": [
       "<Figure size 432x288 with 1 Axes>"
      ]
     },
     "metadata": {
      "needs_background": "light"
     },
     "output_type": "display_data"
    }
   ],
   "source": [
    "plt.plot(history.history['loss'])\n",
    "\n",
    "plt.title('Loss Graph')\n",
    "plt.ylabel('Loss')\n",
    "plt.xlabel('Epochs')"
   ]
  },
  {
   "cell_type": "code",
   "execution_count": 258,
   "id": "0349bf80-13ab-4048-bb25-79de0b8be954",
   "metadata": {
    "collapsed": true,
    "jupyter": {
     "outputs_hidden": true
    },
    "tags": []
   },
   "outputs": [
    {
     "name": "stdout",
     "output_type": "stream",
     "text": [
      "Epoch 1/100\n",
      "6/6 - 6s - loss: 0.6921 - binary_accuracy: 0.6696 - recall: 0.7087 - precision: 0.8932 - 6s/epoch - 997ms/step\n",
      "Epoch 2/100\n",
      "6/6 - 0s - loss: 0.6895 - binary_accuracy: 0.7651 - recall: 0.8500 - precision: 0.8787 - 398ms/epoch - 66ms/step\n",
      "Epoch 3/100\n",
      "6/6 - 0s - loss: 0.6867 - binary_accuracy: 0.7683 - recall: 0.8544 - precision: 0.8785 - 388ms/epoch - 65ms/step\n",
      "Epoch 4/100\n",
      "6/6 - 0s - loss: 0.6835 - binary_accuracy: 0.7789 - recall: 0.8682 - precision: 0.8787 - 413ms/epoch - 69ms/step\n",
      "Epoch 5/100\n",
      "6/6 - 0s - loss: 0.6800 - binary_accuracy: 0.7867 - recall: 0.8789 - precision: 0.8784 - 419ms/epoch - 70ms/step\n",
      "Epoch 6/100\n",
      "6/6 - 0s - loss: 0.6761 - binary_accuracy: 0.8105 - recall: 0.9100 - precision: 0.8787 - 393ms/epoch - 66ms/step\n",
      "Epoch 7/100\n",
      "6/6 - 0s - loss: 0.6718 - binary_accuracy: 0.8126 - recall: 0.9128 - precision: 0.8787 - 402ms/epoch - 67ms/step\n",
      "Epoch 8/100\n",
      "6/6 - 0s - loss: 0.6672 - binary_accuracy: 0.8258 - recall: 0.9301 - precision: 0.8788 - 404ms/epoch - 67ms/step\n",
      "Epoch 9/100\n",
      "6/6 - 0s - loss: 0.6621 - binary_accuracy: 0.8258 - recall: 0.9301 - precision: 0.8788 - 420ms/epoch - 70ms/step\n",
      "Epoch 10/100\n",
      "6/6 - 0s - loss: 0.6569 - binary_accuracy: 0.8267 - recall: 0.9311 - precision: 0.8788 - 417ms/epoch - 70ms/step\n",
      "Epoch 11/100\n",
      "6/6 - 0s - loss: 0.6510 - binary_accuracy: 0.8333 - recall: 0.9400 - precision: 0.8787 - 406ms/epoch - 68ms/step\n",
      "Epoch 12/100\n",
      "6/6 - 0s - loss: 0.6451 - binary_accuracy: 0.8448 - recall: 0.9550 - precision: 0.8789 - 389ms/epoch - 65ms/step\n",
      "Epoch 13/100\n",
      "6/6 - 0s - loss: 0.6387 - binary_accuracy: 0.8637 - recall: 0.9801 - precision: 0.8788 - 395ms/epoch - 66ms/step\n",
      "Epoch 14/100\n",
      "6/6 - 0s - loss: 0.6322 - binary_accuracy: 0.8688 - recall: 0.9866 - precision: 0.8789 - 402ms/epoch - 67ms/step\n",
      "Epoch 15/100\n",
      "6/6 - 0s - loss: 0.6256 - binary_accuracy: 0.8712 - recall: 0.9900 - precision: 0.8787 - 401ms/epoch - 67ms/step\n",
      "Epoch 16/100\n",
      "6/6 - 0s - loss: 0.6193 - binary_accuracy: 0.8719 - recall: 0.9910 - precision: 0.8787 - 397ms/epoch - 66ms/step\n",
      "Epoch 17/100\n",
      "6/6 - 0s - loss: 0.6124 - binary_accuracy: 0.8787 - recall: 1.0000 - precision: 0.8787 - 419ms/epoch - 70ms/step\n",
      "Epoch 18/100\n",
      "6/6 - 0s - loss: 0.6058 - binary_accuracy: 0.8787 - recall: 1.0000 - precision: 0.8787 - 417ms/epoch - 70ms/step\n",
      "Epoch 19/100\n",
      "6/6 - 0s - loss: 0.5993 - binary_accuracy: 0.8787 - recall: 1.0000 - precision: 0.8787 - 408ms/epoch - 68ms/step\n",
      "Epoch 20/100\n",
      "6/6 - 0s - loss: 0.5924 - binary_accuracy: 0.8787 - recall: 1.0000 - precision: 0.8787 - 409ms/epoch - 68ms/step\n",
      "Epoch 21/100\n",
      "6/6 - 0s - loss: 0.5860 - binary_accuracy: 0.8787 - recall: 1.0000 - precision: 0.8787 - 414ms/epoch - 69ms/step\n",
      "Epoch 22/100\n",
      "6/6 - 0s - loss: 0.5798 - binary_accuracy: 0.8787 - recall: 1.0000 - precision: 0.8787 - 416ms/epoch - 69ms/step\n",
      "Epoch 23/100\n",
      "6/6 - 0s - loss: 0.5731 - binary_accuracy: 0.8787 - recall: 1.0000 - precision: 0.8787 - 413ms/epoch - 69ms/step\n",
      "Epoch 24/100\n",
      "6/6 - 0s - loss: 0.5673 - binary_accuracy: 0.8787 - recall: 1.0000 - precision: 0.8787 - 427ms/epoch - 71ms/step\n",
      "Epoch 25/100\n",
      "6/6 - 0s - loss: 0.5609 - binary_accuracy: 0.8787 - recall: 1.0000 - precision: 0.8787 - 422ms/epoch - 70ms/step\n",
      "Epoch 26/100\n",
      "6/6 - 0s - loss: 0.5550 - binary_accuracy: 0.8787 - recall: 1.0000 - precision: 0.8787 - 422ms/epoch - 70ms/step\n",
      "Epoch 27/100\n",
      "6/6 - 0s - loss: 0.5495 - binary_accuracy: 0.8787 - recall: 1.0000 - precision: 0.8787 - 402ms/epoch - 67ms/step\n",
      "Epoch 28/100\n",
      "6/6 - 0s - loss: 0.5437 - binary_accuracy: 0.8787 - recall: 1.0000 - precision: 0.8787 - 415ms/epoch - 69ms/step\n",
      "Epoch 29/100\n",
      "6/6 - 0s - loss: 0.5382 - binary_accuracy: 0.8787 - recall: 1.0000 - precision: 0.8787 - 408ms/epoch - 68ms/step\n",
      "Epoch 30/100\n",
      "6/6 - 0s - loss: 0.5331 - binary_accuracy: 0.8787 - recall: 1.0000 - precision: 0.8787 - 411ms/epoch - 69ms/step\n",
      "Epoch 31/100\n",
      "6/6 - 0s - loss: 0.5278 - binary_accuracy: 0.8787 - recall: 1.0000 - precision: 0.8787 - 392ms/epoch - 65ms/step\n",
      "Epoch 32/100\n",
      "6/6 - 0s - loss: 0.5228 - binary_accuracy: 0.8787 - recall: 1.0000 - precision: 0.8787 - 386ms/epoch - 64ms/step\n",
      "Epoch 33/100\n",
      "6/6 - 0s - loss: 0.5178 - binary_accuracy: 0.8787 - recall: 1.0000 - precision: 0.8787 - 410ms/epoch - 68ms/step\n",
      "Epoch 34/100\n",
      "6/6 - 0s - loss: 0.5131 - binary_accuracy: 0.8787 - recall: 1.0000 - precision: 0.8787 - 420ms/epoch - 70ms/step\n",
      "Epoch 35/100\n",
      "6/6 - 0s - loss: 0.5084 - binary_accuracy: 0.8787 - recall: 1.0000 - precision: 0.8787 - 410ms/epoch - 68ms/step\n",
      "Epoch 36/100\n",
      "6/6 - 0s - loss: 0.5041 - binary_accuracy: 0.8787 - recall: 1.0000 - precision: 0.8787 - 417ms/epoch - 69ms/step\n",
      "Epoch 37/100\n",
      "6/6 - 0s - loss: 0.4998 - binary_accuracy: 0.8787 - recall: 1.0000 - precision: 0.8787 - 413ms/epoch - 69ms/step\n",
      "Epoch 38/100\n",
      "6/6 - 0s - loss: 0.4956 - binary_accuracy: 0.8787 - recall: 1.0000 - precision: 0.8787 - 416ms/epoch - 69ms/step\n",
      "Epoch 39/100\n",
      "6/6 - 0s - loss: 0.4913 - binary_accuracy: 0.8787 - recall: 1.0000 - precision: 0.8787 - 412ms/epoch - 69ms/step\n",
      "Epoch 40/100\n",
      "6/6 - 0s - loss: 0.4876 - binary_accuracy: 0.8787 - recall: 1.0000 - precision: 0.8787 - 412ms/epoch - 69ms/step\n",
      "Epoch 41/100\n",
      "6/6 - 0s - loss: 0.4837 - binary_accuracy: 0.8787 - recall: 1.0000 - precision: 0.8787 - 415ms/epoch - 69ms/step\n",
      "Epoch 42/100\n",
      "6/6 - 0s - loss: 0.4800 - binary_accuracy: 0.8787 - recall: 1.0000 - precision: 0.8787 - 412ms/epoch - 69ms/step\n",
      "Epoch 43/100\n",
      "6/6 - 0s - loss: 0.4767 - binary_accuracy: 0.8787 - recall: 1.0000 - precision: 0.8787 - 416ms/epoch - 69ms/step\n",
      "Epoch 44/100\n",
      "6/6 - 0s - loss: 0.4731 - binary_accuracy: 0.8787 - recall: 1.0000 - precision: 0.8787 - 411ms/epoch - 69ms/step\n",
      "Epoch 45/100\n",
      "6/6 - 0s - loss: 0.4698 - binary_accuracy: 0.8787 - recall: 1.0000 - precision: 0.8787 - 394ms/epoch - 66ms/step\n",
      "Epoch 46/100\n",
      "6/6 - 0s - loss: 0.4666 - binary_accuracy: 0.8787 - recall: 1.0000 - precision: 0.8787 - 381ms/epoch - 64ms/step\n",
      "Epoch 47/100\n",
      "6/6 - 0s - loss: 0.4635 - binary_accuracy: 0.8787 - recall: 1.0000 - precision: 0.8787 - 413ms/epoch - 69ms/step\n",
      "Epoch 48/100\n",
      "6/6 - 0s - loss: 0.4605 - binary_accuracy: 0.8787 - recall: 1.0000 - precision: 0.8787 - 388ms/epoch - 65ms/step\n",
      "Epoch 49/100\n",
      "6/6 - 0s - loss: 0.4575 - binary_accuracy: 0.8787 - recall: 1.0000 - precision: 0.8787 - 387ms/epoch - 65ms/step\n",
      "Epoch 50/100\n",
      "6/6 - 0s - loss: 0.4547 - binary_accuracy: 0.8787 - recall: 1.0000 - precision: 0.8787 - 390ms/epoch - 65ms/step\n",
      "Epoch 51/100\n",
      "6/6 - 0s - loss: 0.4519 - binary_accuracy: 0.8787 - recall: 1.0000 - precision: 0.8787 - 397ms/epoch - 66ms/step\n",
      "Epoch 52/100\n",
      "6/6 - 0s - loss: 0.4495 - binary_accuracy: 0.8787 - recall: 1.0000 - precision: 0.8787 - 395ms/epoch - 66ms/step\n",
      "Epoch 53/100\n",
      "6/6 - 0s - loss: 0.4466 - binary_accuracy: 0.8787 - recall: 1.0000 - precision: 0.8787 - 425ms/epoch - 71ms/step\n",
      "Epoch 54/100\n",
      "6/6 - 0s - loss: 0.4443 - binary_accuracy: 0.8787 - recall: 1.0000 - precision: 0.8787 - 402ms/epoch - 67ms/step\n",
      "Epoch 55/100\n",
      "6/6 - 0s - loss: 0.4419 - binary_accuracy: 0.8787 - recall: 1.0000 - precision: 0.8787 - 408ms/epoch - 68ms/step\n",
      "Epoch 56/100\n",
      "6/6 - 0s - loss: 0.4396 - binary_accuracy: 0.8787 - recall: 1.0000 - precision: 0.8787 - 414ms/epoch - 69ms/step\n",
      "Epoch 57/100\n",
      "6/6 - 0s - loss: 0.4373 - binary_accuracy: 0.8787 - recall: 1.0000 - precision: 0.8787 - 413ms/epoch - 69ms/step\n",
      "Epoch 58/100\n",
      "6/6 - 0s - loss: 0.4352 - binary_accuracy: 0.8787 - recall: 1.0000 - precision: 0.8787 - 412ms/epoch - 69ms/step\n",
      "Epoch 59/100\n",
      "6/6 - 0s - loss: 0.4332 - binary_accuracy: 0.8787 - recall: 1.0000 - precision: 0.8787 - 397ms/epoch - 66ms/step\n",
      "Epoch 60/100\n",
      "6/6 - 0s - loss: 0.4310 - binary_accuracy: 0.8787 - recall: 1.0000 - precision: 0.8787 - 390ms/epoch - 65ms/step\n",
      "Epoch 61/100\n",
      "6/6 - 0s - loss: 0.4292 - binary_accuracy: 0.8787 - recall: 1.0000 - precision: 0.8787 - 411ms/epoch - 69ms/step\n",
      "Epoch 62/100\n",
      "6/6 - 0s - loss: 0.4272 - binary_accuracy: 0.8787 - recall: 1.0000 - precision: 0.8787 - 382ms/epoch - 64ms/step\n",
      "Epoch 63/100\n",
      "6/6 - 0s - loss: 0.4255 - binary_accuracy: 0.8787 - recall: 1.0000 - precision: 0.8787 - 382ms/epoch - 64ms/step\n",
      "Epoch 64/100\n",
      "6/6 - 0s - loss: 0.4238 - binary_accuracy: 0.8787 - recall: 1.0000 - precision: 0.8787 - 409ms/epoch - 68ms/step\n",
      "Epoch 65/100\n",
      "6/6 - 0s - loss: 0.4219 - binary_accuracy: 0.8787 - recall: 1.0000 - precision: 0.8787 - 402ms/epoch - 67ms/step\n",
      "Epoch 66/100\n",
      "6/6 - 0s - loss: 0.4204 - binary_accuracy: 0.8787 - recall: 1.0000 - precision: 0.8787 - 413ms/epoch - 69ms/step\n",
      "Epoch 67/100\n",
      "6/6 - 0s - loss: 0.4189 - binary_accuracy: 0.8787 - recall: 1.0000 - precision: 0.8787 - 437ms/epoch - 73ms/step\n",
      "Epoch 68/100\n",
      "6/6 - 0s - loss: 0.4172 - binary_accuracy: 0.8787 - recall: 1.0000 - precision: 0.8787 - 430ms/epoch - 72ms/step\n",
      "Epoch 69/100\n",
      "6/6 - 0s - loss: 0.4159 - binary_accuracy: 0.8787 - recall: 1.0000 - precision: 0.8787 - 416ms/epoch - 69ms/step\n",
      "Epoch 70/100\n",
      "6/6 - 0s - loss: 0.4143 - binary_accuracy: 0.8787 - recall: 1.0000 - precision: 0.8787 - 423ms/epoch - 70ms/step\n",
      "Epoch 71/100\n",
      "6/6 - 0s - loss: 0.4131 - binary_accuracy: 0.8787 - recall: 1.0000 - precision: 0.8787 - 414ms/epoch - 69ms/step\n",
      "Epoch 72/100\n",
      "6/6 - 0s - loss: 0.4116 - binary_accuracy: 0.8787 - recall: 1.0000 - precision: 0.8787 - 401ms/epoch - 67ms/step\n",
      "Epoch 73/100\n",
      "6/6 - 0s - loss: 0.4103 - binary_accuracy: 0.8787 - recall: 1.0000 - precision: 0.8787 - 414ms/epoch - 69ms/step\n",
      "Epoch 74/100\n",
      "6/6 - 0s - loss: 0.4091 - binary_accuracy: 0.8787 - recall: 1.0000 - precision: 0.8787 - 411ms/epoch - 69ms/step\n",
      "Epoch 75/100\n",
      "6/6 - 0s - loss: 0.4078 - binary_accuracy: 0.8787 - recall: 1.0000 - precision: 0.8787 - 415ms/epoch - 69ms/step\n",
      "Epoch 76/100\n",
      "6/6 - 0s - loss: 0.4066 - binary_accuracy: 0.8787 - recall: 1.0000 - precision: 0.8787 - 414ms/epoch - 69ms/step\n",
      "Epoch 77/100\n",
      "6/6 - 0s - loss: 0.4054 - binary_accuracy: 0.8787 - recall: 1.0000 - precision: 0.8787 - 422ms/epoch - 70ms/step\n",
      "Epoch 78/100\n",
      "6/6 - 0s - loss: 0.4045 - binary_accuracy: 0.8787 - recall: 1.0000 - precision: 0.8787 - 415ms/epoch - 69ms/step\n",
      "Epoch 79/100\n",
      "6/6 - 0s - loss: 0.4033 - binary_accuracy: 0.8787 - recall: 1.0000 - precision: 0.8787 - 418ms/epoch - 70ms/step\n",
      "Epoch 80/100\n",
      "6/6 - 0s - loss: 0.4023 - binary_accuracy: 0.8787 - recall: 1.0000 - precision: 0.8787 - 415ms/epoch - 69ms/step\n",
      "Epoch 81/100\n",
      "6/6 - 0s - loss: 0.4013 - binary_accuracy: 0.8787 - recall: 1.0000 - precision: 0.8787 - 402ms/epoch - 67ms/step\n",
      "Epoch 82/100\n",
      "6/6 - 0s - loss: 0.4002 - binary_accuracy: 0.8787 - recall: 1.0000 - precision: 0.8787 - 414ms/epoch - 69ms/step\n",
      "Epoch 83/100\n",
      "6/6 - 0s - loss: 0.3993 - binary_accuracy: 0.8787 - recall: 1.0000 - precision: 0.8787 - 394ms/epoch - 66ms/step\n",
      "Epoch 84/100\n",
      "6/6 - 0s - loss: 0.3985 - binary_accuracy: 0.8787 - recall: 1.0000 - precision: 0.8787 - 383ms/epoch - 64ms/step\n",
      "Epoch 85/100\n",
      "6/6 - 0s - loss: 0.3977 - binary_accuracy: 0.8787 - recall: 1.0000 - precision: 0.8787 - 389ms/epoch - 65ms/step\n",
      "Epoch 86/100\n",
      "6/6 - 0s - loss: 0.3966 - binary_accuracy: 0.8787 - recall: 1.0000 - precision: 0.8787 - 407ms/epoch - 68ms/step\n",
      "Epoch 87/100\n",
      "6/6 - 0s - loss: 0.3958 - binary_accuracy: 0.8787 - recall: 1.0000 - precision: 0.8787 - 409ms/epoch - 68ms/step\n",
      "Epoch 88/100\n",
      "6/6 - 0s - loss: 0.3950 - binary_accuracy: 0.8787 - recall: 1.0000 - precision: 0.8787 - 419ms/epoch - 70ms/step\n",
      "Epoch 89/100\n",
      "6/6 - 0s - loss: 0.3941 - binary_accuracy: 0.8787 - recall: 1.0000 - precision: 0.8787 - 427ms/epoch - 71ms/step\n",
      "Epoch 90/100\n",
      "6/6 - 0s - loss: 0.3934 - binary_accuracy: 0.8787 - recall: 1.0000 - precision: 0.8787 - 412ms/epoch - 69ms/step\n",
      "Epoch 91/100\n",
      "6/6 - 0s - loss: 0.3927 - binary_accuracy: 0.8787 - recall: 1.0000 - precision: 0.8787 - 410ms/epoch - 68ms/step\n",
      "Epoch 92/100\n",
      "6/6 - 0s - loss: 0.3920 - binary_accuracy: 0.8787 - recall: 1.0000 - precision: 0.8787 - 412ms/epoch - 69ms/step\n",
      "Epoch 93/100\n",
      "6/6 - 0s - loss: 0.3913 - binary_accuracy: 0.8787 - recall: 1.0000 - precision: 0.8787 - 399ms/epoch - 67ms/step\n",
      "Epoch 94/100\n",
      "6/6 - 0s - loss: 0.3906 - binary_accuracy: 0.8787 - recall: 1.0000 - precision: 0.8787 - 415ms/epoch - 69ms/step\n",
      "Epoch 95/100\n",
      "6/6 - 0s - loss: 0.3900 - binary_accuracy: 0.8787 - recall: 1.0000 - precision: 0.8787 - 425ms/epoch - 71ms/step\n",
      "Epoch 96/100\n",
      "6/6 - 0s - loss: 0.3894 - binary_accuracy: 0.8787 - recall: 1.0000 - precision: 0.8787 - 414ms/epoch - 69ms/step\n",
      "Epoch 97/100\n",
      "6/6 - 0s - loss: 0.3888 - binary_accuracy: 0.8787 - recall: 1.0000 - precision: 0.8787 - 418ms/epoch - 70ms/step\n",
      "Epoch 98/100\n",
      "6/6 - 0s - loss: 0.3881 - binary_accuracy: 0.8787 - recall: 1.0000 - precision: 0.8787 - 420ms/epoch - 70ms/step\n",
      "Epoch 99/100\n",
      "6/6 - 0s - loss: 0.3876 - binary_accuracy: 0.8787 - recall: 1.0000 - precision: 0.8787 - 408ms/epoch - 68ms/step\n",
      "Epoch 100/100\n",
      "6/6 - 0s - loss: 0.3870 - binary_accuracy: 0.8787 - recall: 1.0000 - precision: 0.8787 - 416ms/epoch - 69ms/step\n"
     ]
    }
   ],
   "source": [
    "from tensorflow.keras.layers import Conv1D, MaxPooling1D, Flatten, Reshape\n",
    "\n",
    "def create_test(activation, dense_units):\n",
    "    # define model\n",
    "    model = Sequential()\n",
    "    model.add(LSTM(2, activation=activation[0], return_sequences=True))\n",
    "    model.add(LSTM(2, activation=activation[0], return_sequences=True))\n",
    "    model.add(LSTM(2, activation=activation[0], return_sequences=True))\n",
    "    model.add(AveragePooling1D(pool_size=100))\n",
    "    model.add(Dense(units=dense_units, activation=activation[1]))\n",
    "    model.add(LeakyReLU())\n",
    "    model.add(Reshape((100,)))\n",
    "    model.compile(loss='binary_crossentropy', optimizer='Adam', metrics=['BinaryAccuracy', 'Recall', 'Precision'])\n",
    "    return model\n",
    "    \n",
    "\n",
    "n_samples = 10\n",
    "n_timesteps = 100\n",
    "n_features = 3 * 8\n",
    "model = create_test(['tanh', 'sigmoid'], n_timesteps)\n",
    "model.build((n_timesteps, n_timesteps, n_features))\n",
    "# tf.keras.utils.plot_model(model, show_shapes=True)\n",
    "history = model.fit(X_train, Y_train, epochs=100, verbose=2)"
   ]
  },
  {
   "cell_type": "code",
   "execution_count": 308,
   "id": "228dfc61-7546-4b53-9e42-a438085c7376",
   "metadata": {},
   "outputs": [],
   "source": [
    "from sklearn.metrics import f1_score, confusion_matrix, classification_report, RocCurveDisplay, roc_curve\n",
    "import tensorflow as tf"
   ]
  },
  {
   "cell_type": "code",
   "execution_count": 333,
   "id": "1b238b60-c151-4919-8b22-b81949b13fef",
   "metadata": {},
   "outputs": [
    {
     "data": {
      "text/plain": [
       "array([[0.6985147 , 0.69064957, 0.7048837 , ..., 0.700266  , 0.6973977 ,\n",
       "        0.69440496],\n",
       "       [0.6985147 , 0.69064957, 0.7048837 , ..., 0.700266  , 0.6973977 ,\n",
       "        0.69440496],\n",
       "       [0.6985147 , 0.69064957, 0.7048837 , ..., 0.700266  , 0.6973977 ,\n",
       "        0.69440496],\n",
       "       ...,\n",
       "       [0.6985147 , 0.69064957, 0.7048837 , ..., 0.700266  , 0.6973977 ,\n",
       "        0.69440496],\n",
       "       [0.6985147 , 0.69064957, 0.7048837 , ..., 0.700266  , 0.6973977 ,\n",
       "        0.69440496],\n",
       "       [0.6985147 , 0.69064957, 0.7048837 , ..., 0.700266  , 0.6973977 ,\n",
       "        0.69440496]], dtype=float32)"
      ]
     },
     "execution_count": 333,
     "metadata": {},
     "output_type": "execute_result"
    }
   ],
   "source": [
    "ypred = model.predict(X_test)\n",
    "ypred"
   ]
  },
  {
   "cell_type": "code",
   "execution_count": 334,
   "id": "6245efe9-8ebb-4bd3-8dce-2d32c49b76e5",
   "metadata": {},
   "outputs": [],
   "source": [
    "scaler = MinMaxScaler()\n",
    "ypred = scaler.fit_transform(ypred.reshape(-1,1))"
   ]
  },
  {
   "cell_type": "code",
   "execution_count": 335,
   "id": "ef7d54ac-207a-450e-a9c7-9cfbe01d0e79",
   "metadata": {},
   "outputs": [
    {
     "name": "stdout",
     "output_type": "stream",
     "text": [
      "(4500, 1)\n"
     ]
    }
   ],
   "source": [
    "ypred = np.float64((ypred > 0.5))\n",
    "print(ypred.shape)"
   ]
  },
  {
   "cell_type": "code",
   "execution_count": 336,
   "id": "9d6a04f1-0376-4ca2-be85-75d83c711f26",
   "metadata": {},
   "outputs": [],
   "source": [
    "cf_matrix = confusion_matrix(Y_test.reshape(-1,1), ypred)"
   ]
  },
  {
   "cell_type": "code",
   "execution_count": 338,
   "id": "64baaae3-df54-4739-ace0-0d7c3a613cfa",
   "metadata": {},
   "outputs": [
    {
     "data": {
      "image/png": "[encoded data removed]",
      "text/plain": [
       "<Figure size 432x288 with 2 Axes>"
      ]
     },
     "metadata": {
      "needs_background": "light"
     },
     "output_type": "display_data"
    }
   ],
   "source": [
    "import seaborn as sns\n",
    "\n",
    "ax = sns.heatmap(cf_matrix/np.sum(cf_matrix), annot=True, cmap='Blues')\n",
    "\n",
    "ax.set_title('Confusion Matrix (193 Seizure 30 Nonseizure) (Model 3) \\n');\n",
    "ax.set_xlabel('\\nPredicted Values')\n",
    "ax.set_ylabel('Actual Values \\n ');\n",
    "\n",
    "## Ticket labels - List must be in alphabetical order\n",
    "ax.xaxis.set_ticklabels(['Nonseizure','Seizure'])\n",
    "ax.yaxis.set_ticklabels(['NonSeizure','Seizure'])\n",
    "\n",
    "## Display the visualization of the Confusion Matrix.\n",
    "plt.show()"
   ]
  },
  {
   "cell_type": "code",
   "execution_count": 339,
   "id": "e2b002de-4faf-45f6-a6b0-2c3e1e9f8c0e",
   "metadata": {},
   "outputs": [],
   "source": [
    "targetnames = ['NonSeizure', 'Seizure']\n",
    "creport = classification_report( Y_test.reshape(-1,1), ypred, target_names=targetnames)"
   ]
  },
  {
   "cell_type": "code",
   "execution_count": 340,
   "id": "c452aa57-89f4-4910-9373-b85c4f0378d3",
   "metadata": {},
   "outputs": [
    {
     "name": "stdout",
     "output_type": "stream",
     "text": [
      "              precision    recall  f1-score   support\n",
      "\n",
      "  NonSeizure       0.21      0.30      0.25       931\n",
      "     Seizure       0.79      0.70      0.74      3569\n",
      "\n",
      "    accuracy                           0.62      4500\n",
      "   macro avg       0.50      0.50      0.49      4500\n",
      "weighted avg       0.67      0.62      0.64      4500\n",
      "\n"
     ]
    }
   ],
   "source": [
    "print(creport)"
   ]
  },
  {
   "cell_type": "code",
   "execution_count": 341,
   "id": "06538094-4bea-4a11-9988-ccf4347323c0",
   "metadata": {},
   "outputs": [],
   "source": [
    "fpr, tpr, thresholds = roc_curve(Y_test.reshape(-1,1), ypred)"
   ]
  },
  {
   "cell_type": "code",
   "execution_count": 342,
   "id": "54d14671-ea44-4140-9d5c-b7e2e8edf2f0",
   "metadata": {
    "tags": []
   },
   "outputs": [
    {
     "data": {
      "text/plain": [
       "<sklearn.metrics._plot.roc_curve.RocCurveDisplay at 0x7fe344629c50>"
      ]
     },
     "execution_count": 342,
     "metadata": {},
     "output_type": "execute_result"
    },
    {
     "data": {
      "image/png": "[encoded data removed]",
      "text/plain": [
       "<Figure size 432x288 with 1 Axes>"
      ]
     },
     "metadata": {
      "needs_background": "light"
     },
     "output_type": "display_data"
    }
   ],
   "source": [
    "display = RocCurveDisplay(fpr=fpr,tpr=tpr, estimator_name='RNN')\n",
    "display.plot()"
   ]
  },
  {
   "cell_type": "code",
   "execution_count": 343,
   "id": "6044ccf3-683a-4ef4-8a34-dc149f972c70",
   "metadata": {},
   "outputs": [
    {
     "name": "stdout",
     "output_type": "stream",
     "text": [
      "Sensitivity: 0.7001961333706921\n",
      "Specificity: 0.3007518796992481\n",
      "Precision: 0.7933333333333333\n",
      "Recall: 0.2074074074074074\n"
     ]
    }
   ],
   "source": [
    "tn, fp, fn, tp = confusion_matrix(Y_test.reshape(-1,1), ypred).ravel()\n",
    "specificity = tn / (tn+fp)\n",
    "sensitivity = tp / (tp+fn)\n",
    "precision = tp / (tp+fp)\n",
    "recall = tn / (tn+fn)\n",
    "print(f'Sensitivity: {sensitivity}')\n",
    "print(f'Specificity: {specificity}')\n",
    "print(f'Precision: {precision}')\n",
    "print(f'Recall: {recall}')"
   ]
  },
  {
   "cell_type": "markdown",
   "id": "dc0c21b4-1910-4174-b5f0-3b56c0911283",
   "metadata": {},
   "source": [
    "# NOTES\n",
    "\n",
    "- You're getting high accuracy when detecting seizures. However, there is a large amount of False Positives which limits usability"
   ]
  },
  {
   "cell_type": "code",
   "execution_count": 330,
   "id": "478084cf-be05-4901-92e5-ee6da1655534",
   "metadata": {},
   "outputs": [],
   "source": [
    "def RNNsimple(hidden_units, dense_units, input_shape, activation):\n",
    "    model = Sequential()\n",
    "    model.add(SimpleRNN(hidden_units, input_shape=input_shape, \n",
    "                        activation=activation[0]))\n",
    "    model.add(Dense(units=dense_units, activation=activation[1]))\n",
    "    model.add(Dropout(0.2))\n",
    "    model.compile(loss='binary_crossentropy', optimizer='adam', metrics=['BinaryAccuracy', 'TruePositives', 'FalsePositives', 'Precision', 'Recall'])\n",
    "    return model"
   ]
  },
  {
   "cell_type": "code",
   "execution_count": 331,
   "id": "872930fd-1650-427a-95a8-218b91ae30fb",
   "metadata": {},
   "outputs": [],
   "source": [
    "n_samples = 10\n",
    "n_timesteps = 100\n",
    "n_features = 3 * 8\n",
    "model = RNNsimple(2, n_timesteps, (n_timesteps, n_features), activation=['tanh', 'sigmoid'])"
   ]
  },
  {
   "cell_type": "code",
   "execution_count": 332,
   "id": "71f74c5d-1109-4fa8-b1bd-1e2712e6bf5f",
   "metadata": {
    "collapsed": true,
    "jupyter": {
     "outputs_hidden": true
    },
    "tags": []
   },
   "outputs": [
    {
     "name": "stdout",
     "output_type": "stream",
     "text": [
      "Epoch 1/100\n",
      "6/6 - 1s - loss: 3.1171 - binary_accuracy: 0.7285 - true_positives: 12535.0000 - false_positives: 1727.0000 - precision: 0.8789 - recall: 0.8014 - 1s/epoch - 202ms/step\n",
      "Epoch 2/100\n",
      "6/6 - 0s - loss: 3.1124 - binary_accuracy: 0.7298 - true_positives: 12537.0000 - false_positives: 1706.0000 - precision: 0.8802 - recall: 0.8015 - 71ms/epoch - 12ms/step\n",
      "Epoch 3/100\n",
      "6/6 - 0s - loss: 3.0477 - binary_accuracy: 0.7325 - true_positives: 12613.0000 - false_positives: 1734.0000 - precision: 0.8791 - recall: 0.8064 - 76ms/epoch - 13ms/step\n",
      "Epoch 4/100\n",
      "6/6 - 0s - loss: 3.1403 - binary_accuracy: 0.7266 - true_positives: 12498.0000 - false_positives: 1724.0000 - precision: 0.8788 - recall: 0.7991 - 65ms/epoch - 11ms/step\n",
      "Epoch 5/100\n",
      "6/6 - 0s - loss: 3.1473 - binary_accuracy: 0.7265 - true_positives: 12484.0000 - false_positives: 1711.0000 - precision: 0.8795 - recall: 0.7982 - 69ms/epoch - 11ms/step\n",
      "Epoch 6/100\n",
      "6/6 - 0s - loss: 3.0893 - binary_accuracy: 0.7284 - true_positives: 12551.0000 - false_positives: 1745.0000 - precision: 0.8779 - recall: 0.8024 - 70ms/epoch - 12ms/step\n",
      "Epoch 7/100\n",
      "6/6 - 0s - loss: 3.1115 - binary_accuracy: 0.7262 - true_positives: 12521.0000 - false_positives: 1754.0000 - precision: 0.8771 - recall: 0.8005 - 65ms/epoch - 11ms/step\n",
      "Epoch 8/100\n",
      "6/6 - 0s - loss: 3.1400 - binary_accuracy: 0.7260 - true_positives: 12481.0000 - false_positives: 1718.0000 - precision: 0.8790 - recall: 0.7980 - 64ms/epoch - 11ms/step\n",
      "Epoch 9/100\n",
      "6/6 - 0s - loss: 3.0807 - binary_accuracy: 0.7297 - true_positives: 12547.0000 - false_positives: 1717.0000 - precision: 0.8796 - recall: 0.8022 - 68ms/epoch - 11ms/step\n",
      "Epoch 10/100\n",
      "6/6 - 0s - loss: 3.1051 - binary_accuracy: 0.7258 - true_positives: 12517.0000 - false_positives: 1757.0000 - precision: 0.8769 - recall: 0.8003 - 71ms/epoch - 12ms/step\n",
      "Epoch 11/100\n",
      "6/6 - 0s - loss: 3.0576 - binary_accuracy: 0.7289 - true_positives: 12569.0000 - false_positives: 1754.0000 - precision: 0.8775 - recall: 0.8036 - 72ms/epoch - 12ms/step\n",
      "Epoch 12/100\n",
      "6/6 - 0s - loss: 3.1122 - binary_accuracy: 0.7252 - true_positives: 12500.0000 - false_positives: 1751.0000 - precision: 0.8771 - recall: 0.7992 - 74ms/epoch - 12ms/step\n",
      "Epoch 13/100\n",
      "6/6 - 0s - loss: 3.0506 - binary_accuracy: 0.7307 - true_positives: 12567.0000 - false_positives: 1719.0000 - precision: 0.8797 - recall: 0.8035 - 77ms/epoch - 13ms/step\n",
      "Epoch 14/100\n",
      "6/6 - 0s - loss: 3.1392 - binary_accuracy: 0.7246 - true_positives: 12458.0000 - false_positives: 1720.0000 - precision: 0.8787 - recall: 0.7965 - 76ms/epoch - 13ms/step\n",
      "Epoch 15/100\n",
      "6/6 - 0s - loss: 3.1245 - binary_accuracy: 0.7247 - true_positives: 12472.0000 - false_positives: 1731.0000 - precision: 0.8781 - recall: 0.7974 - 62ms/epoch - 10ms/step\n",
      "Epoch 16/100\n",
      "6/6 - 0s - loss: 3.1222 - binary_accuracy: 0.7251 - true_positives: 12470.0000 - false_positives: 1722.0000 - precision: 0.8787 - recall: 0.7973 - 72ms/epoch - 12ms/step\n",
      "Epoch 17/100\n",
      "6/6 - 0s - loss: 3.0935 - binary_accuracy: 0.7267 - true_positives: 12500.0000 - false_positives: 1724.0000 - precision: 0.8788 - recall: 0.7992 - 76ms/epoch - 13ms/step\n",
      "Epoch 18/100\n",
      "6/6 - 0s - loss: 3.1304 - binary_accuracy: 0.7246 - true_positives: 12452.0000 - false_positives: 1714.0000 - precision: 0.8790 - recall: 0.7961 - 74ms/epoch - 12ms/step\n",
      "Epoch 19/100\n",
      "6/6 - 0s - loss: 3.0731 - binary_accuracy: 0.7267 - true_positives: 12518.0000 - false_positives: 1742.0000 - precision: 0.8778 - recall: 0.8003 - 76ms/epoch - 13ms/step\n",
      "Epoch 20/100\n",
      "6/6 - 0s - loss: 3.0235 - binary_accuracy: 0.7309 - true_positives: 12571.0000 - false_positives: 1720.0000 - precision: 0.8796 - recall: 0.8037 - 75ms/epoch - 12ms/step\n",
      "Epoch 21/100\n",
      "6/6 - 0s - loss: 3.0284 - binary_accuracy: 0.7296 - true_positives: 12563.0000 - false_positives: 1736.0000 - precision: 0.8786 - recall: 0.8032 - 78ms/epoch - 13ms/step\n",
      "Epoch 22/100\n",
      "6/6 - 0s - loss: 3.0745 - binary_accuracy: 0.7266 - true_positives: 12505.0000 - false_positives: 1731.0000 - precision: 0.8784 - recall: 0.7995 - 78ms/epoch - 13ms/step\n",
      "Epoch 23/100\n",
      "6/6 - 0s - loss: 3.0704 - binary_accuracy: 0.7266 - true_positives: 12506.0000 - false_positives: 1731.0000 - precision: 0.8784 - recall: 0.7996 - 76ms/epoch - 13ms/step\n",
      "Epoch 24/100\n",
      "6/6 - 0s - loss: 3.0257 - binary_accuracy: 0.7294 - true_positives: 12555.0000 - false_positives: 1730.0000 - precision: 0.8789 - recall: 0.8027 - 68ms/epoch - 11ms/step\n",
      "Epoch 25/100\n",
      "6/6 - 0s - loss: 3.1295 - binary_accuracy: 0.7229 - true_positives: 12429.0000 - false_positives: 1720.0000 - precision: 0.8784 - recall: 0.7946 - 82ms/epoch - 14ms/step\n",
      "Epoch 26/100\n",
      "6/6 - 0s - loss: 2.9980 - binary_accuracy: 0.7311 - true_positives: 12581.0000 - false_positives: 1727.0000 - precision: 0.8793 - recall: 0.8044 - 72ms/epoch - 12ms/step\n",
      "Epoch 27/100\n",
      "6/6 - 0s - loss: 3.0897 - binary_accuracy: 0.7229 - true_positives: 12473.0000 - false_positives: 1765.0000 - precision: 0.8760 - recall: 0.7975 - 76ms/epoch - 13ms/step\n",
      "Epoch 28/100\n",
      "6/6 - 0s - loss: 3.0062 - binary_accuracy: 0.7310 - true_positives: 12564.0000 - false_positives: 1712.0000 - precision: 0.8801 - recall: 0.8033 - 64ms/epoch - 11ms/step\n",
      "Epoch 29/100\n",
      "6/6 - 0s - loss: 3.0296 - binary_accuracy: 0.7269 - true_positives: 12538.0000 - false_positives: 1759.0000 - precision: 0.8770 - recall: 0.8016 - 72ms/epoch - 12ms/step\n",
      "Epoch 30/100\n",
      "6/6 - 0s - loss: 3.0808 - binary_accuracy: 0.7252 - true_positives: 12472.0000 - false_positives: 1723.0000 - precision: 0.8786 - recall: 0.7974 - 77ms/epoch - 13ms/step\n",
      "Epoch 31/100\n",
      "6/6 - 0s - loss: 3.0070 - binary_accuracy: 0.7290 - true_positives: 12557.0000 - false_positives: 1739.0000 - precision: 0.8784 - recall: 0.8028 - 72ms/epoch - 12ms/step\n",
      "Epoch 32/100\n",
      "6/6 - 0s - loss: 3.0118 - binary_accuracy: 0.7290 - true_positives: 12548.0000 - false_positives: 1731.0000 - precision: 0.8788 - recall: 0.8023 - 76ms/epoch - 13ms/step\n",
      "Epoch 33/100\n",
      "6/6 - 0s - loss: 3.0359 - binary_accuracy: 0.7265 - true_positives: 12519.0000 - false_positives: 1746.0000 - precision: 0.8776 - recall: 0.8004 - 73ms/epoch - 12ms/step\n",
      "Epoch 34/100\n",
      "6/6 - 0s - loss: 3.0171 - binary_accuracy: 0.7289 - true_positives: 12536.0000 - false_positives: 1721.0000 - precision: 0.8793 - recall: 0.8015 - 66ms/epoch - 11ms/step\n",
      "Epoch 35/100\n",
      "6/6 - 0s - loss: 2.9208 - binary_accuracy: 0.7356 - true_positives: 12646.0000 - false_positives: 1711.0000 - precision: 0.8808 - recall: 0.8085 - 74ms/epoch - 12ms/step\n",
      "Epoch 36/100\n",
      "6/6 - 0s - loss: 3.0588 - binary_accuracy: 0.7248 - true_positives: 12485.0000 - false_positives: 1742.0000 - precision: 0.8776 - recall: 0.7982 - 74ms/epoch - 12ms/step\n",
      "Epoch 37/100\n",
      "6/6 - 0s - loss: 3.0215 - binary_accuracy: 0.7292 - true_positives: 12523.0000 - false_positives: 1703.0000 - precision: 0.8803 - recall: 0.8007 - 72ms/epoch - 12ms/step\n",
      "Epoch 38/100\n",
      "6/6 - 0s - loss: 3.0342 - binary_accuracy: 0.7269 - true_positives: 12509.0000 - false_positives: 1730.0000 - precision: 0.8785 - recall: 0.7998 - 71ms/epoch - 12ms/step\n",
      "Epoch 39/100\n",
      "6/6 - 0s - loss: 3.0623 - binary_accuracy: 0.7249 - true_positives: 12474.0000 - false_positives: 1729.0000 - precision: 0.8783 - recall: 0.7975 - 77ms/epoch - 13ms/step\n",
      "Epoch 40/100\n",
      "6/6 - 0s - loss: 3.0628 - binary_accuracy: 0.7237 - true_positives: 12474.0000 - false_positives: 1751.0000 - precision: 0.8769 - recall: 0.7975 - 78ms/epoch - 13ms/step\n",
      "Epoch 41/100\n",
      "6/6 - 0s - loss: 3.0279 - binary_accuracy: 0.7282 - true_positives: 12509.0000 - false_positives: 1706.0000 - precision: 0.8800 - recall: 0.7998 - 76ms/epoch - 13ms/step\n",
      "Epoch 42/100\n",
      "6/6 - 0s - loss: 3.0027 - binary_accuracy: 0.7289 - true_positives: 12538.0000 - false_positives: 1722.0000 - precision: 0.8792 - recall: 0.8016 - 76ms/epoch - 13ms/step\n",
      "Epoch 43/100\n",
      "6/6 - 0s - loss: 3.0917 - binary_accuracy: 0.7230 - true_positives: 12433.0000 - false_positives: 1723.0000 - precision: 0.8783 - recall: 0.7949 - 72ms/epoch - 12ms/step\n",
      "Epoch 44/100\n",
      "6/6 - 0s - loss: 3.0997 - binary_accuracy: 0.7215 - true_positives: 12424.0000 - false_positives: 1740.0000 - precision: 0.8772 - recall: 0.7943 - 73ms/epoch - 12ms/step\n",
      "Epoch 45/100\n",
      "6/6 - 0s - loss: 2.9586 - binary_accuracy: 0.7310 - true_positives: 12587.0000 - false_positives: 1735.0000 - precision: 0.8789 - recall: 0.8047 - 72ms/epoch - 12ms/step\n",
      "Epoch 46/100\n",
      "6/6 - 0s - loss: 2.9987 - binary_accuracy: 0.7283 - true_positives: 12539.0000 - false_positives: 1734.0000 - precision: 0.8785 - recall: 0.8017 - 76ms/epoch - 13ms/step\n",
      "Epoch 47/100\n",
      "6/6 - 0s - loss: 3.0468 - binary_accuracy: 0.7247 - true_positives: 12482.0000 - false_positives: 1741.0000 - precision: 0.8776 - recall: 0.7980 - 81ms/epoch - 13ms/step\n",
      "Epoch 48/100\n",
      "6/6 - 0s - loss: 3.0734 - binary_accuracy: 0.7222 - true_positives: 12452.0000 - false_positives: 1756.0000 - precision: 0.8764 - recall: 0.7961 - 74ms/epoch - 12ms/step\n",
      "Epoch 49/100\n",
      "6/6 - 0s - loss: 2.9768 - binary_accuracy: 0.7303 - true_positives: 12559.0000 - false_positives: 1719.0000 - precision: 0.8796 - recall: 0.8030 - 77ms/epoch - 13ms/step\n",
      "Epoch 50/100\n",
      "6/6 - 0s - loss: 3.0937 - binary_accuracy: 0.7210 - true_positives: 12425.0000 - false_positives: 1750.0000 - precision: 0.8765 - recall: 0.7944 - 78ms/epoch - 13ms/step\n",
      "Epoch 51/100\n",
      "6/6 - 0s - loss: 3.0311 - binary_accuracy: 0.7253 - true_positives: 12497.0000 - false_positives: 1745.0000 - precision: 0.8775 - recall: 0.7990 - 84ms/epoch - 14ms/step\n",
      "Epoch 52/100\n",
      "6/6 - 0s - loss: 2.9902 - binary_accuracy: 0.7285 - true_positives: 12543.0000 - false_positives: 1734.0000 - precision: 0.8785 - recall: 0.8019 - 72ms/epoch - 12ms/step\n",
      "Epoch 53/100\n",
      "6/6 - 0s - loss: 2.9885 - binary_accuracy: 0.7287 - true_positives: 12544.0000 - false_positives: 1732.0000 - precision: 0.8787 - recall: 0.8020 - 77ms/epoch - 13ms/step\n",
      "Epoch 54/100\n",
      "6/6 - 0s - loss: 2.9739 - binary_accuracy: 0.7292 - true_positives: 12561.0000 - false_positives: 1740.0000 - precision: 0.8783 - recall: 0.8031 - 77ms/epoch - 13ms/step\n",
      "Epoch 55/100\n",
      "6/6 - 0s - loss: 3.0033 - binary_accuracy: 0.7268 - true_positives: 12527.0000 - false_positives: 1749.0000 - precision: 0.8775 - recall: 0.8009 - 74ms/epoch - 12ms/step\n",
      "Epoch 56/100\n",
      "6/6 - 0s - loss: 2.9810 - binary_accuracy: 0.7284 - true_positives: 12552.0000 - false_positives: 1746.0000 - precision: 0.8779 - recall: 0.8025 - 84ms/epoch - 14ms/step\n",
      "Epoch 57/100\n",
      "6/6 - 0s - loss: 3.0269 - binary_accuracy: 0.7270 - true_positives: 12494.0000 - false_positives: 1712.0000 - precision: 0.8795 - recall: 0.7988 - 73ms/epoch - 12ms/step\n",
      "Epoch 58/100\n",
      "6/6 - 0s - loss: 2.9897 - binary_accuracy: 0.7301 - true_positives: 12535.0000 - false_positives: 1698.0000 - precision: 0.8807 - recall: 0.8014 - 70ms/epoch - 12ms/step\n",
      "Epoch 59/100\n",
      "6/6 - 0s - loss: 3.0280 - binary_accuracy: 0.7276 - true_positives: 12491.0000 - false_positives: 1699.0000 - precision: 0.8803 - recall: 0.7986 - 78ms/epoch - 13ms/step\n",
      "Epoch 60/100\n",
      "6/6 - 0s - loss: 2.9368 - binary_accuracy: 0.7330 - true_positives: 12598.0000 - false_positives: 1709.0000 - precision: 0.8805 - recall: 0.8054 - 75ms/epoch - 12ms/step\n",
      "Epoch 61/100\n",
      "6/6 - 0s - loss: 3.0123 - binary_accuracy: 0.7262 - true_positives: 12513.0000 - false_positives: 1745.0000 - precision: 0.8776 - recall: 0.8000 - 76ms/epoch - 13ms/step\n",
      "Epoch 62/100\n",
      "6/6 - 0s - loss: 3.0168 - binary_accuracy: 0.7262 - true_positives: 12507.0000 - false_positives: 1740.0000 - precision: 0.8779 - recall: 0.7996 - 73ms/epoch - 12ms/step\n",
      "Epoch 63/100\n",
      "6/6 - 0s - loss: 2.9362 - binary_accuracy: 0.7310 - true_positives: 12602.0000 - false_positives: 1750.0000 - precision: 0.8781 - recall: 0.8057 - 84ms/epoch - 14ms/step\n",
      "Epoch 64/100\n",
      "6/6 - 0s - loss: 3.0345 - binary_accuracy: 0.7248 - true_positives: 12486.0000 - false_positives: 1743.0000 - precision: 0.8775 - recall: 0.7983 - 74ms/epoch - 12ms/step\n",
      "Epoch 65/100\n",
      "6/6 - 0s - loss: 2.9897 - binary_accuracy: 0.7281 - true_positives: 12537.0000 - false_positives: 1735.0000 - precision: 0.8784 - recall: 0.8015 - 86ms/epoch - 14ms/step\n",
      "Epoch 66/100\n",
      "6/6 - 0s - loss: 3.0933 - binary_accuracy: 0.7217 - true_positives: 12415.0000 - false_positives: 1727.0000 - precision: 0.8779 - recall: 0.7937 - 75ms/epoch - 12ms/step\n",
      "Epoch 67/100\n",
      "6/6 - 0s - loss: 2.9807 - binary_accuracy: 0.7298 - true_positives: 12544.0000 - false_positives: 1712.0000 - precision: 0.8799 - recall: 0.8020 - 81ms/epoch - 13ms/step\n",
      "Epoch 68/100\n",
      "6/6 - 0s - loss: 2.9877 - binary_accuracy: 0.7307 - true_positives: 12532.0000 - false_positives: 1684.0000 - precision: 0.8815 - recall: 0.8012 - 86ms/epoch - 14ms/step\n",
      "Epoch 69/100\n",
      "6/6 - 0s - loss: 3.0076 - binary_accuracy: 0.7257 - true_positives: 12519.0000 - false_positives: 1760.0000 - precision: 0.8767 - recall: 0.8004 - 68ms/epoch - 11ms/step\n",
      "Epoch 70/100\n",
      "6/6 - 0s - loss: 2.9879 - binary_accuracy: 0.7289 - true_positives: 12536.0000 - false_positives: 1720.0000 - precision: 0.8793 - recall: 0.8015 - 69ms/epoch - 11ms/step\n",
      "Epoch 71/100\n",
      "6/6 - 0s - loss: 3.0065 - binary_accuracy: 0.7265 - true_positives: 12518.0000 - false_positives: 1745.0000 - precision: 0.8777 - recall: 0.8003 - 78ms/epoch - 13ms/step\n",
      "Epoch 72/100\n",
      "6/6 - 0s - loss: 3.1040 - binary_accuracy: 0.7210 - true_positives: 12401.0000 - false_positives: 1726.0000 - precision: 0.8778 - recall: 0.7929 - 71ms/epoch - 12ms/step\n",
      "Epoch 73/100\n",
      "6/6 - 0s - loss: 3.0400 - binary_accuracy: 0.7253 - true_positives: 12475.0000 - false_positives: 1724.0000 - precision: 0.8786 - recall: 0.7976 - 75ms/epoch - 13ms/step\n",
      "Epoch 74/100\n",
      "6/6 - 0s - loss: 3.0392 - binary_accuracy: 0.7250 - true_positives: 12477.0000 - false_positives: 1731.0000 - precision: 0.8782 - recall: 0.7977 - 76ms/epoch - 13ms/step\n",
      "Epoch 75/100\n",
      "6/6 - 0s - loss: 3.0184 - binary_accuracy: 0.7261 - true_positives: 12501.0000 - false_positives: 1735.0000 - precision: 0.8781 - recall: 0.7992 - 83ms/epoch - 14ms/step\n",
      "Epoch 76/100\n",
      "6/6 - 0s - loss: 3.0195 - binary_accuracy: 0.7280 - true_positives: 12495.0000 - false_positives: 1696.0000 - precision: 0.8805 - recall: 0.7989 - 84ms/epoch - 14ms/step\n",
      "Epoch 77/100\n",
      "6/6 - 0s - loss: 2.9399 - binary_accuracy: 0.7312 - true_positives: 12593.0000 - false_positives: 1736.0000 - precision: 0.8788 - recall: 0.8051 - 76ms/epoch - 13ms/step\n",
      "Epoch 78/100\n",
      "6/6 - 0s - loss: 3.0077 - binary_accuracy: 0.7258 - true_positives: 12516.0000 - false_positives: 1755.0000 - precision: 0.8770 - recall: 0.8002 - 70ms/epoch - 12ms/step\n",
      "Epoch 79/100\n",
      "6/6 - 0s - loss: 2.9858 - binary_accuracy: 0.7278 - true_positives: 12540.0000 - false_positives: 1744.0000 - precision: 0.8779 - recall: 0.8017 - 77ms/epoch - 13ms/step\n",
      "Epoch 80/100\n",
      "6/6 - 0s - loss: 2.9724 - binary_accuracy: 0.7290 - true_positives: 12555.0000 - false_positives: 1738.0000 - precision: 0.8784 - recall: 0.8027 - 78ms/epoch - 13ms/step\n",
      "Epoch 81/100\n",
      "6/6 - 0s - loss: 2.9363 - binary_accuracy: 0.7323 - true_positives: 12594.0000 - false_positives: 1718.0000 - precision: 0.8800 - recall: 0.8052 - 85ms/epoch - 14ms/step\n",
      "Epoch 82/100\n",
      "6/6 - 0s - loss: 3.0073 - binary_accuracy: 0.7267 - true_positives: 12514.0000 - false_positives: 1738.0000 - precision: 0.8781 - recall: 0.8001 - 72ms/epoch - 12ms/step\n",
      "Epoch 83/100\n",
      "6/6 - 0s - loss: 2.8946 - binary_accuracy: 0.7344 - true_positives: 12644.0000 - false_positives: 1730.0000 - precision: 0.8796 - recall: 0.8084 - 77ms/epoch - 13ms/step\n",
      "Epoch 84/100\n",
      "6/6 - 0s - loss: 3.1061 - binary_accuracy: 0.7212 - true_positives: 12396.0000 - false_positives: 1717.0000 - precision: 0.8783 - recall: 0.7925 - 72ms/epoch - 12ms/step\n",
      "Epoch 85/100\n",
      "6/6 - 0s - loss: 3.0046 - binary_accuracy: 0.7279 - true_positives: 12514.0000 - false_positives: 1716.0000 - precision: 0.8794 - recall: 0.8001 - 85ms/epoch - 14ms/step\n",
      "Epoch 86/100\n",
      "6/6 - 0s - loss: 3.0107 - binary_accuracy: 0.7289 - true_positives: 12503.0000 - false_positives: 1688.0000 - precision: 0.8811 - recall: 0.7994 - 77ms/epoch - 13ms/step\n",
      "Epoch 87/100\n",
      "6/6 - 0s - loss: 2.9308 - binary_accuracy: 0.7322 - true_positives: 12601.0000 - false_positives: 1726.0000 - precision: 0.8795 - recall: 0.8056 - 77ms/epoch - 13ms/step\n",
      "Epoch 88/100\n",
      "6/6 - 0s - loss: 3.0233 - binary_accuracy: 0.7252 - true_positives: 12496.0000 - false_positives: 1746.0000 - precision: 0.8774 - recall: 0.7989 - 70ms/epoch - 12ms/step\n",
      "Epoch 89/100\n",
      "6/6 - 0s - loss: 2.9556 - binary_accuracy: 0.7314 - true_positives: 12570.0000 - false_positives: 1710.0000 - precision: 0.8803 - recall: 0.8037 - 75ms/epoch - 12ms/step\n",
      "Epoch 90/100\n",
      "6/6 - 0s - loss: 3.0054 - binary_accuracy: 0.7263 - true_positives: 12517.0000 - false_positives: 1747.0000 - precision: 0.8775 - recall: 0.8003 - 81ms/epoch - 13ms/step\n",
      "Epoch 91/100\n",
      "6/6 - 0s - loss: 3.0185 - binary_accuracy: 0.7261 - true_positives: 12500.0000 - false_positives: 1735.0000 - precision: 0.8781 - recall: 0.7992 - 76ms/epoch - 13ms/step\n",
      "Epoch 92/100\n",
      "6/6 - 0s - loss: 2.9950 - binary_accuracy: 0.7281 - true_positives: 12526.0000 - false_positives: 1725.0000 - precision: 0.8790 - recall: 0.8008 - 77ms/epoch - 13ms/step\n",
      "Epoch 93/100\n",
      "6/6 - 0s - loss: 3.0180 - binary_accuracy: 0.7274 - true_positives: 12497.0000 - false_positives: 1708.0000 - precision: 0.8798 - recall: 0.7990 - 67ms/epoch - 11ms/step\n",
      "Epoch 94/100\n",
      "6/6 - 0s - loss: 3.0214 - binary_accuracy: 0.7261 - true_positives: 12496.0000 - false_positives: 1730.0000 - precision: 0.8784 - recall: 0.7989 - 83ms/epoch - 14ms/step\n",
      "Epoch 95/100\n",
      "6/6 - 0s - loss: 2.9792 - binary_accuracy: 0.7267 - true_positives: 12551.0000 - false_positives: 1774.0000 - precision: 0.8762 - recall: 0.8024 - 74ms/epoch - 12ms/step\n",
      "Epoch 96/100\n",
      "6/6 - 0s - loss: 3.0221 - binary_accuracy: 0.7289 - true_positives: 12487.0000 - false_positives: 1671.0000 - precision: 0.8820 - recall: 0.7984 - 77ms/epoch - 13ms/step\n",
      "Epoch 97/100\n",
      "6/6 - 0s - loss: 3.0374 - binary_accuracy: 0.7263 - true_positives: 12474.0000 - false_positives: 1705.0000 - precision: 0.8798 - recall: 0.7975 - 69ms/epoch - 11ms/step\n",
      "Epoch 98/100\n",
      "6/6 - 0s - loss: 3.0482 - binary_accuracy: 0.7232 - true_positives: 12468.0000 - false_positives: 1754.0000 - precision: 0.8767 - recall: 0.7971 - 80ms/epoch - 13ms/step\n",
      "Epoch 99/100\n",
      "6/6 - 0s - loss: 3.0327 - binary_accuracy: 0.7249 - true_positives: 12484.0000 - false_positives: 1740.0000 - precision: 0.8777 - recall: 0.7982 - 78ms/epoch - 13ms/step\n",
      "Epoch 100/100\n",
      "6/6 - 0s - loss: 2.9714 - binary_accuracy: 0.7298 - true_positives: 12554.0000 - false_positives: 1722.0000 - precision: 0.8794 - recall: 0.8026 - 64ms/epoch - 11ms/step\n"
     ]
    }
   ],
   "source": [
    "history = model.fit(X_train, Y_train, epochs=100, verbose=2)"
   ]
  },
  {
   "cell_type": "code",
   "execution_count": 345,
   "id": "79af0042-782a-4800-b536-9c3ea30f6a49",
   "metadata": {},
   "outputs": [
    {
     "data": {
      "image/png": "[encoded data removed]",
      "text/plain": [
       "<IPython.core.display.Image object>"
      ]
     },
     "execution_count": 345,
     "metadata": {},
     "output_type": "execute_result"
    }
   ],
   "source": [
    "tf.keras.utils.plot_model(model, show_shapes=True)"
   ]
  },
  {
   "cell_type": "code",
   "execution_count": null,
   "id": "0d1fa404-3608-46b9-bb83-2592d60984c4",
   "metadata": {},
   "outputs": [],
   "source": []
  }
 ],
 "metadata": {
  "environment": {
   "kernel": "python3",
   "name": "tf2-cpu.2-7.m87",
   "type": "gcloud",
   "uri": "gcr.io/deeplearning-platform-release/tf2-cpu.2-7:m87"
  },
  "kernelspec": {
   "display_name": "Python 3",
   "language": "python",
   "name": "python3"
  },
  "language_info": {
   "codemirror_mode": {
    "name": "ipython",
    "version": 3
   },
   "file_extension": ".py",
   "mimetype": "text/x-python",
   "name": "python",
   "nbconvert_exporter": "python",
   "pygments_lexer": "ipython3",
   "version": "3.7.12"
  }
 },
 "nbformat": 4,
 "nbformat_minor": 5
}
