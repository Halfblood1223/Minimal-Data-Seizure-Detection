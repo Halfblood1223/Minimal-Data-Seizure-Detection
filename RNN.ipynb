{
 "cells": [
  {
   "cell_type": "code",
   "execution_count": 1,
   "id": "78fca72e-5ae5-4ca4-9db3-ef4aa8de075a",
   "metadata": {},
   "outputs": [],
   "source": [
    "import numpy as np\n",
    "\n",
    "import matplotlib.pyplot as plt\n",
    "\n",
    "from data_retrieval import seizure_timestamps, classify, seizurevector_retrieval\n",
    "\n",
    "from nonseizure_dataretrieval import non_seizure_retrieval"
   ]
  },
  {
   "cell_type": "code",
   "execution_count": 3,
   "id": "1d2bcc1e-9ec8-4813-8883-a37837d0344a",
   "metadata": {},
   "outputs": [],
   "source": [
    "with open('../chbmit/1.0.0/RECORDS', 'r') as f:\n",
    "    recordlines = f.readlines()\n",
    "    \n",
    "with open('../chbmit/1.0.0/RECORDS-WITH-SEIZURES', 'r') as f:\n",
    "    seizurelines = f.readlines()\n",
    "    seizurelines = [line[6:].strip() for line in seizurelines]\n",
    "    \n",
    "summaries = []\n",
    "for x in range(1, 25):\n",
    "    if x < 10:\n",
    "        x = f'0{x}'\n",
    "    with open(f'../chbmit/1.0.0/chb{x}/chb{x}-summary.txt', 'r') as f:\n",
    "        lines = f.readlines()\n",
    "        lines = [line.strip() for line in lines[29:]]\n",
    "        summaries += lines"
   ]
  },
  {
   "cell_type": "code",
   "execution_count": 4,
   "id": "4cccc33e-e63d-40be-9ef1-5501b9577ee0",
   "metadata": {},
   "outputs": [],
   "source": [
    "timestamps = seizure_timestamps(summaries, seizurelines)"
   ]
  },
  {
   "cell_type": "code",
   "execution_count": 5,
   "id": "b93d525a-79df-43ff-8a2d-4ee8b0000ee8",
   "metadata": {},
   "outputs": [],
   "source": [
    "seizureclass = np.zeros((197, 100))"
   ]
  },
  {
   "cell_type": "code",
   "execution_count": 24,
   "id": "8be0486a-f694-45a3-b2f2-2cd07a30eca9",
   "metadata": {},
   "outputs": [],
   "source": [
    "Y = classify(seizureclass, timestamps)"
   ]
  },
  {
   "cell_type": "code",
   "execution_count": 37,
   "id": "b7ec91ba-f479-409b-8c6c-f3dde334a0f9",
   "metadata": {},
   "outputs": [
    {
     "name": "stderr",
     "output_type": "stream",
     "text": [
      " 44%|████▍     | 62/141 [01:25<03:27,  2.62s/it]"
     ]
    },
    {
     "name": "stdout",
     "output_type": "stream",
     "text": [
      "index 927744 is out of bounds for axis 1 with size 927744\n"
     ]
    },
    {
     "name": "stderr",
     "output_type": "stream",
     "text": [
      " 96%|█████████▋| 136/141 [03:05<00:05,  1.01s/it]"
     ]
    },
    {
     "name": "stdout",
     "output_type": "stream",
     "text": [
      "index 921600 is out of bounds for axis 1 with size 921600\n"
     ]
    },
    {
     "name": "stderr",
     "output_type": "stream",
     "text": [
      " 99%|█████████▊| 139/141 [03:07<00:01,  1.30it/s]"
     ]
    },
    {
     "name": "stdout",
     "output_type": "stream",
     "text": [
      "index 921600 is out of bounds for axis 1 with size 921600\n"
     ]
    },
    {
     "name": "stderr",
     "output_type": "stream",
     "text": [
      " 99%|█████████▉| 140/141 [03:07<00:00,  1.62it/s]"
     ]
    },
    {
     "name": "stdout",
     "output_type": "stream",
     "text": [
      "index 921600 is out of bounds for axis 1 with size 921600\n"
     ]
    },
    {
     "name": "stderr",
     "output_type": "stream",
     "text": [
      "100%|██████████| 141/141 [03:08<00:00,  1.34s/it]\n"
     ]
    }
   ],
   "source": [
    "X, classifierpop = seizurevector_retrieval(timestamps, channel1=0, channel2=3)"
   ]
  },
  {
   "cell_type": "code",
   "execution_count": 38,
   "id": "ee572f5d-d0eb-404f-b413-37de0c8ffd39",
   "metadata": {},
   "outputs": [],
   "source": [
    "Y = np.delete(Y, classifierpop, axis=0)"
   ]
  },
  {
   "cell_type": "code",
   "execution_count": 39,
   "id": "c69d6bb6-8253-4032-a129-6c1b124c68e1",
   "metadata": {},
   "outputs": [
    {
     "name": "stderr",
     "output_type": "stream",
     "text": [
      "31it [00:30,  1.03it/s]\n"
     ]
    }
   ],
   "source": [
    "path = 'nonseizure.csv'\n",
    "X_noseize, classiferpop = non_seizure_retrieval(seizurelines, path, i1=0, i2=3)"
   ]
  },
  {
   "cell_type": "code",
   "execution_count": 43,
   "id": "084ae78a-75ce-4da2-b46c-fdc10b4393a8",
   "metadata": {},
   "outputs": [
    {
     "data": {
      "text/plain": [
       "[61, 135, 138, 139]"
      ]
     },
     "execution_count": 43,
     "metadata": {},
     "output_type": "execute_result"
    }
   ],
   "source": [
    "classifierpop"
   ]
  },
  {
   "cell_type": "code",
   "execution_count": 41,
   "id": "f6cfbde6-ce87-4079-8baf-08675099acf3",
   "metadata": {},
   "outputs": [],
   "source": [
    "X = np.concatenate((X, X_noseize))\n",
    "classify_noseize = np.zeros((31, 100))\n",
    "# classify_noseize = np.delete(classify_noseize, classifierpop, axis=0)\n",
    "Y = np.concatenate((Y, classify_noseize))"
   ]
  },
  {
   "cell_type": "code",
   "execution_count": 42,
   "id": "2498eb87-13dd-4962-a54d-3db5321e9999",
   "metadata": {},
   "outputs": [
    {
     "name": "stdout",
     "output_type": "stream",
     "text": [
      "Logits Shape: (224, 100, 24), Labels Shape: (251, 100)\n"
     ]
    }
   ],
   "source": [
    "print(f'Logits Shape: {X.shape}, Labels Shape: {Y.shape}')"
   ]
  },
  {
   "cell_type": "code",
   "execution_count": 265,
   "id": "cd6f1500-2480-4a12-8664-cd76b3016c0e",
   "metadata": {},
   "outputs": [],
   "source": [
    "from keras.models import Sequential\n",
    "from keras.layers import Dense, SimpleRNN, Dropout\n",
    "from sklearn.preprocessing import MinMaxScaler\n",
    "from sklearn.metrics import mean_squared_error, confusion_matrix\n",
    "from keras.metrics import BinaryAccuracy, TruePositives, FalsePositives, TrueNegatives, FalseNegatives"
   ]
  },
  {
   "cell_type": "code",
   "execution_count": 266,
   "id": "fbbbb069-1dfa-42c6-8b5d-d8b96aa4beb6",
   "metadata": {},
   "outputs": [],
   "source": [
    "def create_RNN(hidden_units, dense_units, input_shape, activation):\n",
    "    model = Sequential()\n",
    "    model.add(SimpleRNN(hidden_units, input_shape=input_shape, \n",
    "                        activation=activation[0]))\n",
    "    model.add(Dense(units=dense_units, activation=activation[1]))\n",
    "    model.add(Dropout(0.2))\n",
    "    model.compile(loss='binary_crossentropy', optimizer='adam', metrics=['BinaryAccuracy', 'TruePositives', 'FalsePositives', 'Precision', 'Recall'])\n",
    "    return model"
   ]
  },
  {
   "cell_type": "code",
   "execution_count": 267,
   "id": "184d9bfe-a69a-43ee-82d1-38c03cc6e4dc",
   "metadata": {},
   "outputs": [],
   "source": [
    "n_samples = 10\n",
    "n_timesteps = 100\n",
    "n_features = 22 * 8\n",
    "model = create_RNN(2, n_timesteps, (n_timesteps, n_features), activation=['tanh', 'sigmoid'])"
   ]
  },
  {
   "cell_type": "code",
   "execution_count": 268,
   "id": "3c81bcb2-fce0-4e03-8ef1-a7dfb464ed03",
   "metadata": {},
   "outputs": [],
   "source": [
    "from sklearn.model_selection import train_test_split\n",
    "X_train, X_test, Y_train, Y_test = train_test_split(X, Y, test_size=0.5, random_state=42, shuffle=True)"
   ]
  },
  {
   "cell_type": "code",
   "execution_count": null,
   "id": "220529ae-e81e-49b0-8d58-c9ac485ddea0",
   "metadata": {},
   "outputs": [],
   "source": []
  },
  {
   "cell_type": "code",
   "execution_count": 269,
   "id": "c104a6f8-b7a2-4d53-8662-da292398034b",
   "metadata": {},
   "outputs": [
    {
     "name": "stdout",
     "output_type": "stream",
     "text": [
      "Epoch 1/100\n",
      "4/4 [==============================] - 1s 20ms/step - loss: 2.9462 - binary_accuracy: 0.7014 - true_positives: 7486.0000 - false_positives: 1530.0000 - precision: 0.8303 - recall: 0.8049\n",
      "Epoch 2/100\n",
      "4/4 [==============================] - 0s 20ms/step - loss: 2.9732 - binary_accuracy: 0.6997 - true_positives: 7465.0000 - false_positives: 1528.0000 - precision: 0.8301 - recall: 0.8027\n",
      "Epoch 3/100\n",
      "4/4 [==============================] - 0s 21ms/step - loss: 2.9828 - binary_accuracy: 0.6992 - true_positives: 7457.0000 - false_positives: 1526.0000 - precision: 0.8301 - recall: 0.8018\n",
      "Epoch 4/100\n",
      "4/4 [==============================] - 0s 25ms/step - loss: 3.0573 - binary_accuracy: 0.6948 - true_positives: 7400.0000 - false_positives: 1518.0000 - precision: 0.8298 - recall: 0.7957\n",
      "Epoch 5/100\n",
      "4/4 [==============================] - 0s 20ms/step - loss: 3.0266 - binary_accuracy: 0.6959 - true_positives: 7423.0000 - false_positives: 1529.0000 - precision: 0.8292 - recall: 0.7982\n",
      "Epoch 6/100\n",
      "4/4 [==============================] - 0s 21ms/step - loss: 3.0763 - binary_accuracy: 0.6936 - true_positives: 7384.0000 - false_positives: 1516.0000 - precision: 0.8297 - recall: 0.7940\n",
      "Epoch 7/100\n",
      "4/4 [==============================] - 0s 21ms/step - loss: 3.0269 - binary_accuracy: 0.6971 - true_positives: 7420.0000 - false_positives: 1513.0000 - precision: 0.8306 - recall: 0.7978\n",
      "Epoch 8/100\n",
      "4/4 [==============================] - 0s 22ms/step - loss: 2.9690 - binary_accuracy: 0.6988 - true_positives: 7464.0000 - false_positives: 1537.0000 - precision: 0.8292 - recall: 0.8026\n",
      "Epoch 9/100\n",
      "4/4 [==============================] - 0s 21ms/step - loss: 2.9958 - binary_accuracy: 0.6971 - true_positives: 7443.0000 - false_positives: 1536.0000 - precision: 0.8289 - recall: 0.8003\n",
      "Epoch 10/100\n",
      "4/4 [==============================] - 0s 22ms/step - loss: 2.9236 - binary_accuracy: 0.6993 - true_positives: 7498.0000 - false_positives: 1566.0000 - precision: 0.8272 - recall: 0.8062\n",
      "Epoch 11/100\n",
      "4/4 [==============================] - 0s 21ms/step - loss: 2.9701 - binary_accuracy: 0.6989 - true_positives: 7460.0000 - false_positives: 1532.0000 - precision: 0.8296 - recall: 0.8022\n",
      "Epoch 12/100\n",
      "4/4 [==============================] - 0s 21ms/step - loss: 2.9916 - binary_accuracy: 0.6986 - true_positives: 7442.0000 - false_positives: 1518.0000 - precision: 0.8306 - recall: 0.8002\n",
      "Epoch 13/100\n",
      "4/4 [==============================] - 0s 20ms/step - loss: 2.9997 - binary_accuracy: 0.6991 - true_positives: 7434.0000 - false_positives: 1504.0000 - precision: 0.8317 - recall: 0.7994\n",
      "Epoch 14/100\n",
      "4/4 [==============================] - 0s 22ms/step - loss: 2.9944 - binary_accuracy: 0.6990 - true_positives: 7437.0000 - false_positives: 1508.0000 - precision: 0.8314 - recall: 0.7997\n",
      "Epoch 15/100\n",
      "4/4 [==============================] - 0s 20ms/step - loss: 3.0167 - binary_accuracy: 0.6964 - true_positives: 7420.0000 - false_positives: 1520.0000 - precision: 0.8300 - recall: 0.7978\n",
      "Epoch 16/100\n",
      "4/4 [==============================] - 0s 20ms/step - loss: 3.0255 - binary_accuracy: 0.6940 - true_positives: 7414.0000 - false_positives: 1541.0000 - precision: 0.8279 - recall: 0.7972\n",
      "Epoch 17/100\n",
      "4/4 [==============================] - 0s 19ms/step - loss: 2.9718 - binary_accuracy: 0.6999 - true_positives: 7451.0000 - false_positives: 1512.0000 - precision: 0.8313 - recall: 0.8012\n",
      "Epoch 18/100\n",
      "4/4 [==============================] - 0s 20ms/step - loss: 3.0171 - binary_accuracy: 0.6979 - true_positives: 7415.0000 - false_positives: 1499.0000 - precision: 0.8318 - recall: 0.7973\n",
      "Epoch 19/100\n",
      "4/4 [==============================] - 0s 20ms/step - loss: 2.9445 - binary_accuracy: 0.7003 - true_positives: 7470.0000 - false_positives: 1527.0000 - precision: 0.8303 - recall: 0.8032\n",
      "Epoch 20/100\n",
      "4/4 [==============================] - 0s 21ms/step - loss: 3.0112 - binary_accuracy: 0.6975 - true_positives: 7418.0000 - false_positives: 1506.0000 - precision: 0.8312 - recall: 0.7976\n",
      "Epoch 21/100\n",
      "4/4 [==============================] - 0s 20ms/step - loss: 2.9647 - binary_accuracy: 0.6989 - true_positives: 7453.0000 - false_positives: 1525.0000 - precision: 0.8301 - recall: 0.8014\n",
      "Epoch 22/100\n",
      "4/4 [==============================] - 0s 21ms/step - loss: 2.9044 - binary_accuracy: 0.7032 - true_positives: 7496.0000 - false_positives: 1520.0000 - precision: 0.8314 - recall: 0.8060\n",
      "Epoch 23/100\n",
      "4/4 [==============================] - 0s 21ms/step - loss: 2.9937 - binary_accuracy: 0.6971 - true_positives: 7429.0000 - false_positives: 1522.0000 - precision: 0.8300 - recall: 0.7988\n",
      "Epoch 24/100\n",
      "4/4 [==============================] - 0s 21ms/step - loss: 2.9501 - binary_accuracy: 0.7006 - true_positives: 7459.0000 - false_positives: 1512.0000 - precision: 0.8315 - recall: 0.8020\n",
      "Epoch 25/100\n",
      "4/4 [==============================] - 0s 22ms/step - loss: 3.0035 - binary_accuracy: 0.6954 - true_positives: 7420.0000 - false_positives: 1532.0000 - precision: 0.8289 - recall: 0.7978\n",
      "Epoch 26/100\n",
      "4/4 [==============================] - 0s 22ms/step - loss: 2.8827 - binary_accuracy: 0.7063 - true_positives: 7506.0000 - false_positives: 1496.0000 - precision: 0.8338 - recall: 0.8071\n",
      "Epoch 27/100\n",
      "4/4 [==============================] - 0s 20ms/step - loss: 2.9122 - binary_accuracy: 0.7021 - true_positives: 7485.0000 - false_positives: 1521.0000 - precision: 0.8311 - recall: 0.8048\n",
      "Epoch 28/100\n",
      "4/4 [==============================] - 0s 20ms/step - loss: 2.9398 - binary_accuracy: 0.7029 - true_positives: 7461.0000 - false_positives: 1489.0000 - precision: 0.8336 - recall: 0.8023\n",
      "Epoch 29/100\n",
      "4/4 [==============================] - 0s 21ms/step - loss: 3.1113 - binary_accuracy: 0.6903 - true_positives: 7333.0000 - false_positives: 1502.0000 - precision: 0.8300 - recall: 0.7885\n",
      "Epoch 30/100\n",
      "4/4 [==============================] - 0s 21ms/step - loss: 2.9635 - binary_accuracy: 0.6995 - true_positives: 7442.0000 - false_positives: 1508.0000 - precision: 0.8315 - recall: 0.8002\n",
      "Epoch 31/100\n",
      "4/4 [==============================] - 0s 21ms/step - loss: 2.9592 - binary_accuracy: 0.6993 - true_positives: 7445.0000 - false_positives: 1513.0000 - precision: 0.8311 - recall: 0.8005\n",
      "Epoch 32/100\n",
      "4/4 [==============================] - 0s 20ms/step - loss: 2.9936 - binary_accuracy: 0.6969 - true_positives: 7418.0000 - false_positives: 1513.0000 - precision: 0.8306 - recall: 0.7976\n",
      "Epoch 33/100\n",
      "4/4 [==============================] - 0s 21ms/step - loss: 2.9214 - binary_accuracy: 0.7026 - true_positives: 7470.0000 - false_positives: 1501.0000 - precision: 0.8327 - recall: 0.8032\n",
      "Epoch 34/100\n",
      "4/4 [==============================] - 0s 20ms/step - loss: 2.9879 - binary_accuracy: 0.6973 - true_positives: 7420.0000 - false_positives: 1510.0000 - precision: 0.8309 - recall: 0.7978\n",
      "Epoch 35/100\n",
      "4/4 [==============================] - 0s 21ms/step - loss: 2.8946 - binary_accuracy: 0.7028 - true_positives: 7489.0000 - false_positives: 1518.0000 - precision: 0.8315 - recall: 0.8053\n",
      "Epoch 36/100\n",
      "4/4 [==============================] - 0s 22ms/step - loss: 2.9642 - binary_accuracy: 0.6997 - true_positives: 7435.0000 - false_positives: 1498.0000 - precision: 0.8323 - recall: 0.7995\n",
      "Epoch 37/100\n",
      "4/4 [==============================] - 0s 21ms/step - loss: 3.0152 - binary_accuracy: 0.6962 - true_positives: 7396.0000 - false_positives: 1498.0000 - precision: 0.8316 - recall: 0.7953\n",
      "Epoch 38/100\n",
      "4/4 [==============================] - 0s 21ms/step - loss: 3.0004 - binary_accuracy: 0.6955 - true_positives: 7408.0000 - false_positives: 1518.0000 - precision: 0.8299 - recall: 0.7966\n",
      "Epoch 39/100\n",
      "4/4 [==============================] - 0s 21ms/step - loss: 2.9223 - binary_accuracy: 0.6984 - true_positives: 7467.0000 - false_positives: 1545.0000 - precision: 0.8286 - recall: 0.8029\n",
      "Epoch 40/100\n",
      "4/4 [==============================] - 0s 23ms/step - loss: 2.9213 - binary_accuracy: 0.6988 - true_positives: 7466.0000 - false_positives: 1539.0000 - precision: 0.8291 - recall: 0.8028\n",
      "Epoch 41/100\n",
      "4/4 [==============================] - 0s 22ms/step - loss: 2.9008 - binary_accuracy: 0.7010 - true_positives: 7480.0000 - false_positives: 1529.0000 - precision: 0.8303 - recall: 0.8043\n",
      "Epoch 42/100\n",
      "4/4 [==============================] - 0s 21ms/step - loss: 2.9756 - binary_accuracy: 0.6964 - true_positives: 7423.0000 - false_positives: 1523.0000 - precision: 0.8298 - recall: 0.7982\n",
      "Epoch 43/100\n",
      "4/4 [==============================] - 0s 23ms/step - loss: 3.0679 - binary_accuracy: 0.6882 - true_positives: 7356.0000 - false_positives: 1548.0000 - precision: 0.8261 - recall: 0.7910\n",
      "Epoch 44/100\n",
      "4/4 [==============================] - 0s 21ms/step - loss: 3.0052 - binary_accuracy: 0.6948 - true_positives: 7399.0000 - false_positives: 1517.0000 - precision: 0.8299 - recall: 0.7956\n",
      "Epoch 45/100\n",
      "4/4 [==============================] - 0s 23ms/step - loss: 2.9579 - binary_accuracy: 0.6974 - true_positives: 7434.0000 - false_positives: 1523.0000 - precision: 0.8300 - recall: 0.7994\n",
      "Epoch 46/100\n",
      "4/4 [==============================] - 0s 21ms/step - loss: 2.9688 - binary_accuracy: 0.6967 - true_positives: 7425.0000 - false_positives: 1522.0000 - precision: 0.8299 - recall: 0.7984\n",
      "Epoch 47/100\n",
      "4/4 [==============================] - 0s 20ms/step - loss: 2.9101 - binary_accuracy: 0.7019 - true_positives: 7466.0000 - false_positives: 1505.0000 - precision: 0.8322 - recall: 0.8028\n",
      "Epoch 48/100\n",
      "4/4 [==============================] - 0s 21ms/step - loss: 3.0017 - binary_accuracy: 0.6951 - true_positives: 7398.0000 - false_positives: 1513.0000 - precision: 0.8302 - recall: 0.7955\n",
      "Epoch 49/100\n",
      "4/4 [==============================] - 0s 21ms/step - loss: 3.0416 - binary_accuracy: 0.6908 - true_positives: 7370.0000 - false_positives: 1533.0000 - precision: 0.8278 - recall: 0.7925\n",
      "Epoch 50/100\n",
      "4/4 [==============================] - 0s 21ms/step - loss: 3.0094 - binary_accuracy: 0.6936 - true_positives: 7392.0000 - false_positives: 1524.0000 - precision: 0.8291 - recall: 0.7948\n",
      "Epoch 51/100\n",
      "4/4 [==============================] - 0s 22ms/step - loss: 3.0744 - binary_accuracy: 0.6904 - true_positives: 7342.0000 - false_positives: 1509.0000 - precision: 0.8295 - recall: 0.7895\n",
      "Epoch 52/100\n",
      "4/4 [==============================] - 0s 21ms/step - loss: 3.1158 - binary_accuracy: 0.6846 - true_positives: 7314.0000 - false_positives: 1546.0000 - precision: 0.8255 - recall: 0.7865\n",
      "Epoch 53/100\n",
      "4/4 [==============================] - 0s 22ms/step - loss: 2.9928 - binary_accuracy: 0.6956 - true_positives: 7401.0000 - false_positives: 1510.0000 - precision: 0.8305 - recall: 0.7958\n",
      "Epoch 54/100\n",
      "4/4 [==============================] - 0s 21ms/step - loss: 3.0090 - binary_accuracy: 0.6948 - true_positives: 7388.0000 - false_positives: 1506.0000 - precision: 0.8307 - recall: 0.7944\n",
      "Epoch 55/100\n",
      "4/4 [==============================] - 0s 21ms/step - loss: 2.8813 - binary_accuracy: 0.7011 - true_positives: 7484.0000 - false_positives: 1532.0000 - precision: 0.8301 - recall: 0.8047\n",
      "Epoch 56/100\n",
      "4/4 [==============================] - 0s 21ms/step - loss: 2.9837 - binary_accuracy: 0.6936 - true_positives: 7409.0000 - false_positives: 1541.0000 - precision: 0.8278 - recall: 0.7967\n",
      "Epoch 57/100\n",
      "4/4 [==============================] - 0s 21ms/step - loss: 2.8327 - binary_accuracy: 0.7061 - true_positives: 7517.0000 - false_positives: 1509.0000 - precision: 0.8328 - recall: 0.8083\n",
      "Epoch 58/100\n",
      "4/4 [==============================] - 0s 21ms/step - loss: 2.8697 - binary_accuracy: 0.7022 - true_positives: 7491.0000 - false_positives: 1526.0000 - precision: 0.8308 - recall: 0.8055\n",
      "Epoch 59/100\n",
      "4/4 [==============================] - 0s 20ms/step - loss: 2.9294 - binary_accuracy: 0.6986 - true_positives: 7446.0000 - false_positives: 1522.0000 - precision: 0.8303 - recall: 0.8006\n",
      "Epoch 60/100\n",
      "4/4 [==============================] - 0s 21ms/step - loss: 2.9718 - binary_accuracy: 0.6971 - true_positives: 7412.0000 - false_positives: 1504.0000 - precision: 0.8313 - recall: 0.7970\n",
      "Epoch 61/100\n",
      "4/4 [==============================] - 0s 22ms/step - loss: 2.9472 - binary_accuracy: 0.6978 - true_positives: 7431.0000 - false_positives: 1516.0000 - precision: 0.8306 - recall: 0.7990\n",
      "Epoch 62/100\n",
      "4/4 [==============================] - 0s 21ms/step - loss: 2.9326 - binary_accuracy: 0.7001 - true_positives: 7440.0000 - false_positives: 1499.0000 - precision: 0.8323 - recall: 0.8000\n",
      "Epoch 63/100\n",
      "4/4 [==============================] - 0s 21ms/step - loss: 2.9685 - binary_accuracy: 0.6962 - true_positives: 7415.0000 - false_positives: 1518.0000 - precision: 0.8301 - recall: 0.7973\n",
      "Epoch 64/100\n",
      "4/4 [==============================] - 0s 21ms/step - loss: 2.9758 - binary_accuracy: 0.6951 - true_positives: 7410.0000 - false_positives: 1525.0000 - precision: 0.8293 - recall: 0.7968\n",
      "Epoch 65/100\n",
      "4/4 [==============================] - 0s 22ms/step - loss: 2.9106 - binary_accuracy: 0.6990 - true_positives: 7458.0000 - false_positives: 1529.0000 - precision: 0.8299 - recall: 0.8019\n",
      "Epoch 66/100\n",
      "4/4 [==============================] - 0s 21ms/step - loss: 2.9696 - binary_accuracy: 0.6969 - true_positives: 7412.0000 - false_positives: 1507.0000 - precision: 0.8310 - recall: 0.7970\n",
      "Epoch 67/100\n",
      "4/4 [==============================] - 0s 20ms/step - loss: 3.0301 - binary_accuracy: 0.6920 - true_positives: 7368.0000 - false_positives: 1518.0000 - precision: 0.8292 - recall: 0.7923\n",
      "Epoch 68/100\n",
      "4/4 [==============================] - 0s 21ms/step - loss: 2.8824 - binary_accuracy: 0.7016 - true_positives: 7477.0000 - false_positives: 1519.0000 - precision: 0.8311 - recall: 0.8040\n",
      "Epoch 69/100\n",
      "4/4 [==============================] - 0s 21ms/step - loss: 2.9311 - binary_accuracy: 0.6981 - true_positives: 7441.0000 - false_positives: 1522.0000 - precision: 0.8302 - recall: 0.8001\n",
      "Epoch 70/100\n",
      "4/4 [==============================] - 0s 21ms/step - loss: 3.0369 - binary_accuracy: 0.6926 - true_positives: 7361.0000 - false_positives: 1504.0000 - precision: 0.8303 - recall: 0.7915\n",
      "Epoch 71/100\n",
      "4/4 [==============================] - 0s 21ms/step - loss: 2.9218 - binary_accuracy: 0.6990 - true_positives: 7447.0000 - false_positives: 1518.0000 - precision: 0.8307 - recall: 0.8008\n",
      "Epoch 72/100\n",
      "4/4 [==============================] - 0s 21ms/step - loss: 3.0314 - binary_accuracy: 0.6902 - true_positives: 7368.0000 - false_positives: 1538.0000 - precision: 0.8273 - recall: 0.7923\n",
      "Epoch 73/100\n",
      "4/4 [==============================] - 0s 20ms/step - loss: 2.9404 - binary_accuracy: 0.6992 - true_positives: 7431.0000 - false_positives: 1500.0000 - precision: 0.8320 - recall: 0.7990\n",
      "Epoch 74/100\n",
      "4/4 [==============================] - 0s 21ms/step - loss: 3.0542 - binary_accuracy: 0.6884 - true_positives: 7351.0000 - false_positives: 1541.0000 - precision: 0.8267 - recall: 0.7904\n",
      "Epoch 75/100\n",
      "4/4 [==============================] - 0s 21ms/step - loss: 2.9962 - binary_accuracy: 0.6942 - true_positives: 7391.0000 - false_positives: 1516.0000 - precision: 0.8298 - recall: 0.7947\n",
      "Epoch 76/100\n",
      "4/4 [==============================] - 0s 21ms/step - loss: 3.0050 - binary_accuracy: 0.6932 - true_positives: 7385.0000 - false_positives: 1521.0000 - precision: 0.8292 - recall: 0.7941\n",
      "Epoch 77/100\n",
      "4/4 [==============================] - 0s 21ms/step - loss: 2.9416 - binary_accuracy: 0.6992 - true_positives: 7429.0000 - false_positives: 1498.0000 - precision: 0.8322 - recall: 0.7988\n",
      "Epoch 78/100\n",
      "4/4 [==============================] - 0s 20ms/step - loss: 2.8854 - binary_accuracy: 0.7015 - true_positives: 7472.0000 - false_positives: 1515.0000 - precision: 0.8314 - recall: 0.8034\n",
      "Epoch 79/100\n",
      "4/4 [==============================] - 0s 21ms/step - loss: 2.9723 - binary_accuracy: 0.6954 - true_positives: 7408.0000 - false_positives: 1519.0000 - precision: 0.8298 - recall: 0.7966\n",
      "Epoch 80/100\n",
      "4/4 [==============================] - 0s 21ms/step - loss: 2.9148 - binary_accuracy: 0.6973 - true_positives: 7453.0000 - false_positives: 1543.0000 - precision: 0.8285 - recall: 0.8014\n",
      "Epoch 81/100\n",
      "4/4 [==============================] - 0s 21ms/step - loss: 2.9645 - binary_accuracy: 0.6950 - true_positives: 7415.0000 - false_positives: 1531.0000 - precision: 0.8289 - recall: 0.7973\n",
      "Epoch 82/100\n",
      "4/4 [==============================] - 0s 21ms/step - loss: 3.0148 - binary_accuracy: 0.6909 - true_positives: 7379.0000 - false_positives: 1541.0000 - precision: 0.8272 - recall: 0.7934\n",
      "Epoch 83/100\n",
      "4/4 [==============================] - 0s 22ms/step - loss: 2.8987 - binary_accuracy: 0.7024 - true_positives: 7459.0000 - false_positives: 1492.0000 - precision: 0.8333 - recall: 0.8020\n",
      "Epoch 84/100\n",
      "4/4 [==============================] - 0s 20ms/step - loss: 2.9343 - binary_accuracy: 0.6982 - true_positives: 7435.0000 - false_positives: 1515.0000 - precision: 0.8307 - recall: 0.7995\n",
      "Epoch 85/100\n",
      "4/4 [==============================] - 0s 22ms/step - loss: 2.9143 - binary_accuracy: 0.6992 - true_positives: 7450.0000 - false_positives: 1519.0000 - precision: 0.8306 - recall: 0.8011\n",
      "Epoch 86/100\n",
      "4/4 [==============================] - 0s 21ms/step - loss: 2.9024 - binary_accuracy: 0.7006 - true_positives: 7458.0000 - false_positives: 1511.0000 - precision: 0.8315 - recall: 0.8019\n",
      "Epoch 87/100\n",
      "4/4 [==============================] - 0s 22ms/step - loss: 2.9352 - binary_accuracy: 0.6967 - true_positives: 7436.0000 - false_positives: 1533.0000 - precision: 0.8291 - recall: 0.7996\n",
      "Epoch 88/100\n",
      "4/4 [==============================] - 0s 21ms/step - loss: 2.8947 - binary_accuracy: 0.7005 - true_positives: 7464.0000 - false_positives: 1518.0000 - precision: 0.8310 - recall: 0.8026\n",
      "Epoch 89/100\n",
      "4/4 [==============================] - 0s 22ms/step - loss: 2.8293 - binary_accuracy: 0.7036 - true_positives: 7514.0000 - false_positives: 1534.0000 - precision: 0.8305 - recall: 0.8080\n",
      "Epoch 90/100\n",
      "4/4 [==============================] - 0s 20ms/step - loss: 2.8994 - binary_accuracy: 0.7005 - true_positives: 7460.0000 - false_positives: 1514.0000 - precision: 0.8313 - recall: 0.8022\n",
      "Epoch 91/100\n",
      "4/4 [==============================] - 0s 22ms/step - loss: 2.9215 - binary_accuracy: 0.6996 - true_positives: 7443.0000 - false_positives: 1507.0000 - precision: 0.8316 - recall: 0.8003\n",
      "Epoch 92/100\n",
      "4/4 [==============================] - 0s 20ms/step - loss: 2.9568 - binary_accuracy: 0.6980 - true_positives: 7416.0000 - false_positives: 1498.0000 - precision: 0.8319 - recall: 0.7974\n",
      "Epoch 93/100\n",
      "4/4 [==============================] - 0s 21ms/step - loss: 2.9659 - binary_accuracy: 0.6954 - true_positives: 7412.0000 - false_positives: 1524.0000 - precision: 0.8295 - recall: 0.7970\n",
      "Epoch 94/100\n",
      "4/4 [==============================] - 0s 20ms/step - loss: 2.9113 - binary_accuracy: 0.6970 - true_positives: 7455.0000 - false_positives: 1549.0000 - precision: 0.8280 - recall: 0.8016\n",
      "Epoch 95/100\n",
      "4/4 [==============================] - 0s 20ms/step - loss: 2.9601 - binary_accuracy: 0.6974 - true_positives: 7414.0000 - false_positives: 1503.0000 - precision: 0.8314 - recall: 0.7972\n",
      "Epoch 96/100\n",
      "4/4 [==============================] - 0s 20ms/step - loss: 2.9117 - binary_accuracy: 0.6974 - true_positives: 7454.0000 - false_positives: 1543.0000 - precision: 0.8285 - recall: 0.8015\n",
      "Epoch 97/100\n",
      "4/4 [==============================] - 0s 20ms/step - loss: 2.9443 - binary_accuracy: 0.6959 - true_positives: 7429.0000 - false_positives: 1535.0000 - precision: 0.8288 - recall: 0.7988\n",
      "Epoch 98/100\n",
      "4/4 [==============================] - 0s 20ms/step - loss: 2.8479 - binary_accuracy: 0.7023 - true_positives: 7500.0000 - false_positives: 1534.0000 - precision: 0.8302 - recall: 0.8065\n",
      "Epoch 99/100\n",
      "4/4 [==============================] - 0s 19ms/step - loss: 2.9792 - binary_accuracy: 0.6966 - true_positives: 7399.0000 - false_positives: 1497.0000 - precision: 0.8317 - recall: 0.7956\n",
      "Epoch 100/100\n",
      "4/4 [==============================] - 0s 21ms/step - loss: 2.9243 - binary_accuracy: 0.6983 - true_positives: 7442.0000 - false_positives: 1521.0000 - precision: 0.8303 - recall: 0.8002\n"
     ]
    },
    {
     "data": {
      "text/plain": [
       "<keras.callbacks.History at 0x7ff312282d10>"
      ]
     },
     "execution_count": 269,
     "metadata": {},
     "output_type": "execute_result"
    }
   ],
   "source": [
    "model.fit(X_train, Y_train, epochs=100)"
   ]
  },
  {
   "cell_type": "code",
   "execution_count": 270,
   "id": "03a2e87c-f881-4a1e-b3ea-77df4967a4fc",
   "metadata": {},
   "outputs": [
    {
     "name": "stdout",
     "output_type": "stream",
     "text": [
      "4/4 [==============================] - 1s 7ms/step - loss: 0.4995 - binary_accuracy: 0.8848 - true_positives: 9910.0000 - false_positives: 1290.0000 - precision: 0.8848 - recall: 1.0000\n"
     ]
    },
    {
     "data": {
      "text/plain": [
       "[0.49948757886886597,\n",
       " 0.8848214149475098,\n",
       " 9910.0,\n",
       " 1290.0,\n",
       " 0.8848214149475098,\n",
       " 1.0]"
      ]
     },
     "execution_count": 270,
     "metadata": {},
     "output_type": "execute_result"
    }
   ],
   "source": [
    "model.evaluate(X_test, Y_test)"
   ]
  },
  {
   "cell_type": "code",
   "execution_count": 284,
   "id": "c70f46f0-1065-4f95-9e76-c8c1e876cfd1",
   "metadata": {},
   "outputs": [
    {
     "name": "stdout",
     "output_type": "stream",
     "text": [
      "Original Shape: (112, 100)\n"
     ]
    }
   ],
   "source": [
    "ypred = model.predict(X_test)\n",
    "print(f'Original Shape: {ypred.shape}')"
   ]
  },
  {
   "cell_type": "code",
   "execution_count": 285,
   "id": "228dfc61-7546-4b53-9e42-a438085c7376",
   "metadata": {},
   "outputs": [],
   "source": [
    "from sklearn.metrics import f1_score, confusion_matrix\n",
    "import tensorflow as tf"
   ]
  },
  {
   "cell_type": "code",
   "execution_count": 286,
   "id": "6245efe9-8ebb-4bd3-8dce-2d32c49b76e5",
   "metadata": {},
   "outputs": [],
   "source": [
    "scaler = MinMaxScaler()\n",
    "ypred = scaler.fit_transform(ypred.reshape(-1,1))"
   ]
  },
  {
   "cell_type": "code",
   "execution_count": 287,
   "id": "ef7d54ac-207a-450e-a9c7-9cfbe01d0e79",
   "metadata": {},
   "outputs": [],
   "source": [
    "ypred = np.float64((ypred > 0.5))"
   ]
  },
  {
   "cell_type": "code",
   "execution_count": 299,
   "id": "9d6a04f1-0376-4ca2-be85-75d83c711f26",
   "metadata": {},
   "outputs": [],
   "source": [
    "cf_matrix = confusion_matrix(ypred, Y_test.reshape(-1,1))"
   ]
  },
  {
   "cell_type": "code",
   "execution_count": 300,
   "id": "64baaae3-df54-4739-ace0-0d7c3a613cfa",
   "metadata": {},
   "outputs": [
    {
     "data": {
      "image/png": "[encoded data removed]",
      "text/plain": [
       "<Figure size 432x288 with 2 Axes>"
      ]
     },
     "metadata": {
      "needs_background": "light"
     },
     "output_type": "display_data"
    }
   ],
   "source": [
    "import seaborn as sns\n",
    "\n",
    "ax = sns.heatmap(cf_matrix/np.sum(cf_matrix), annot=True, cmap='Blues')\n",
    "\n",
    "ax.set_title('Seaborn Confusion Matrix with labels \\n');\n",
    "ax.set_xlabel('\\nPredicted Values')\n",
    "ax.set_ylabel('Actual Values \\n ');\n",
    "\n",
    "## Ticket labels - List must be in alphabetical order\n",
    "ax.xaxis.set_ticklabels(['False','True'])\n",
    "ax.yaxis.set_ticklabels(['False','True'])\n",
    "\n",
    "## Display the visualization of the Confusion Matrix.\n",
    "plt.show()"
   ]
  },
  {
   "cell_type": "code",
   "execution_count": null,
   "id": "ee41b5f8-26e1-4065-95dc-ca112bb1caa4",
   "metadata": {},
   "outputs": [],
   "source": []
  },
  {
   "cell_type": "code",
   "execution_count": null,
   "id": "e2b002de-4faf-45f6-a6b0-2c3e1e9f8c0e",
   "metadata": {},
   "outputs": [],
   "source": []
  }
 ],
 "metadata": {
  "environment": {
   "kernel": "python3",
   "name": "tf2-cpu.2-7.m87",
   "type": "gcloud",
   "uri": "gcr.io/deeplearning-platform-release/tf2-cpu.2-7:m87"
  },
  "kernelspec": {
   "display_name": "Python 3",
   "language": "python",
   "name": "python3"
  },
  "language_info": {
   "codemirror_mode": {
    "name": "ipython",
    "version": 3
   },
   "file_extension": ".py",
   "mimetype": "text/x-python",
   "name": "python",
   "nbconvert_exporter": "python",
   "pygments_lexer": "ipython3",
   "version": "3.7.12"
  }
 },
 "nbformat": 4,
 "nbformat_minor": 5
}
