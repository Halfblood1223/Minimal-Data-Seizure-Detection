{
 "cells": [
  {
   "cell_type": "code",
   "execution_count": null,
   "id": "78fca72e-5ae5-4ca4-9db3-ef4aa8de075a",
   "metadata": {},
   "outputs": [],
   "source": [
    "import numpy as np\n",
    "\n",
    "from data_retrieval import seizure_timestamps, classify, seizurevector_retrieval"
   ]
  },
  {
   "cell_type": "code",
   "execution_count": null,
   "id": "1d2bcc1e-9ec8-4813-8883-a37837d0344a",
   "metadata": {},
   "outputs": [],
   "source": [
    "with open('../chbmit/1.0.0/RECORDS', 'r') as f:\n",
    "    recordlines = f.readlines()\n",
    "    \n",
    "with open('../chbmit/1.0.0/RECORDS-WITH-SEIZURES', 'r') as f:\n",
    "    seizurelines = f.readlines()\n",
    "    seizurelines = [line[6:].strip() for line in seizurelines]\n",
    "    \n",
    "summaries = []\n",
    "for x in range(1, 25):\n",
    "    if x < 10:\n",
    "        x = f'0{x}'\n",
    "    with open(f'../chbmit/1.0.0/chb{x}/chb{x}-summary.txt', 'r') as f:\n",
    "        lines = f.readlines()\n",
    "        lines = [line.strip() for line in lines[29:]]\n",
    "        summaries += lines"
   ]
  },
  {
   "cell_type": "code",
   "execution_count": null,
   "id": "4cccc33e-e63d-40be-9ef1-5501b9577ee0",
   "metadata": {},
   "outputs": [],
   "source": [
    "timestamps = seizure_timestamps(summaries, seizurelines)"
   ]
  },
  {
   "cell_type": "code",
   "execution_count": null,
   "id": "b93d525a-79df-43ff-8a2d-4ee8b0000ee8",
   "metadata": {},
   "outputs": [],
   "source": [
    "seizureclass = np.zeros((197, 100))"
   ]
  },
  {
   "cell_type": "code",
   "execution_count": null,
   "id": "8be0486a-f694-45a3-b2f2-2cd07a30eca9",
   "metadata": {},
   "outputs": [],
   "source": [
    "Y = classify(seizureclass, timestamps)"
   ]
  },
  {
   "cell_type": "code",
   "execution_count": null,
   "id": "b7ec91ba-f479-409b-8c6c-f3dde334a0f9",
   "metadata": {},
   "outputs": [],
   "source": [
    "X = seizurevector_retrieval(timestamps)"
   ]
  },
  {
   "cell_type": "code",
   "execution_count": null,
   "id": "cd6f1500-2480-4a12-8664-cd76b3016c0e",
   "metadata": {},
   "outputs": [],
   "source": [
    "from keras.models import Sequential\n",
    "from keras.layers import Dense, SimpleRNN\n",
    "from sklearn.preprocessing import MinMaxScaler\n",
    "from sklearn.metrics import mean_squared_error, confusion_matrix\n",
    "from keras.metrics import BinaryAccuracy, TruePositives, FalsePositives, TrueNegatives, FalseNegatives"
   ]
  },
  {
   "cell_type": "code",
   "execution_count": null,
   "id": "fbbbb069-1dfa-42c6-8b5d-d8b96aa4beb6",
   "metadata": {},
   "outputs": [],
   "source": [
    "def create_RNN(hidden_units, dense_units, input_shape, activation):\n",
    "    model = Sequential()\n",
    "    model.add(SimpleRNN(hidden_units, input_shape=input_shape, \n",
    "                        activation=activation[0]))\n",
    "    model.add(Dense(units=dense_units, activation=activation[1]))\n",
    "    model.compile(loss='binary_crossentropy', optimizer='adam', metrics=['BinaryAccuracy', 'TruePositives', 'FalsePositives'])\n",
    "    return model"
   ]
  },
  {
   "cell_type": "code",
   "execution_count": null,
   "id": "184d9bfe-a69a-43ee-82d1-38c03cc6e4dc",
   "metadata": {},
   "outputs": [],
   "source": [
    "n_samples = 10\n",
    "n_timesteps = 100\n",
    "n_features = 24\n",
    "model = create_RNN(2, n_timesteps, (n_timesteps, n_features), activation=['tanh', 'sigmoid'])"
   ]
  },
  {
   "cell_type": "code",
   "execution_count": null,
   "id": "c104a6f8-b7a2-4d53-8662-da292398034b",
   "metadata": {},
   "outputs": [],
   "source": []
  },
  {
   "cell_type": "code",
   "execution_count": null,
   "id": "4583a9a2-9869-45ce-b047-1baf9357d1c6",
   "metadata": {},
   "outputs": [],
   "source": [
    "print(f'Logits Shape: {X.shape}, Labels Shape: {Y.shape}')"
   ]
  },
  {
   "cell_type": "markdown",
   "id": "e73f8212-b2a1-40b6-9fdf-eb442cef7b5a",
   "metadata": {},
   "source": [
    "# TO-DO\n",
    "\n",
    "- Get Non-Seizure Vectors in the training data\n",
    "- Check for overfitting"
   ]
  },
  {
   "cell_type": "code",
   "execution_count": null,
   "id": "20b6b095-a1bb-483a-818a-df5d2cebf22a",
   "metadata": {},
   "outputs": [],
   "source": [
    "print('alive')"
   ]
  },
  {
   "cell_type": "code",
   "execution_count": null,
   "id": "05cb86e9-0641-427b-a976-f128d75ca2e3",
   "metadata": {},
   "outputs": [],
   "source": []
  }
 ],
 "metadata": {
  "environment": {
   "kernel": "python3",
   "name": "tf2-cpu.2-7.m87",
   "type": "gcloud",
   "uri": "gcr.io/deeplearning-platform-release/tf2-cpu.2-7:m87"
  },
  "kernelspec": {
   "display_name": "Python 3",
   "language": "python",
   "name": "python3"
  },
  "language_info": {
   "codemirror_mode": {
    "name": "ipython",
    "version": 3
   },
   "file_extension": ".py",
   "mimetype": "text/x-python",
   "name": "python",
   "nbconvert_exporter": "python",
   "pygments_lexer": "ipython3",
   "version": "3.7.12"
  }
 },
 "nbformat": 4,
 "nbformat_minor": 5
}
