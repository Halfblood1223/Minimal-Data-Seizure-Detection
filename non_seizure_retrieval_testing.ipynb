{
 "cells": [
  {
   "cell_type": "code",
   "execution_count": 14,
   "id": "e4394a6b-f3f8-4a1f-aac7-5bf20a3a1aeb",
   "metadata": {},
   "outputs": [],
   "source": [
    "import numpy as np\n",
    "import pandas as pd\n",
    "import random\n",
    "\n",
    "from tqdm import tqdm\n",
    "\n",
    "import mne\n",
    "\n",
    "from feature_extraction import M_bands, powervals\n",
    "\n",
    "mne.set_log_level(40)"
   ]
  },
  {
   "cell_type": "code",
   "execution_count": 85,
   "id": "d1c1ed66-14fb-4151-84ea-d477c7f4cf5e",
   "metadata": {},
   "outputs": [],
   "source": [
    "def non_seizure_retrieval(seizurelines, path,i1=None, i2=None):\n",
    "    sf = 256\n",
    "    s = sf * 100\n",
    "    seizures = []\n",
    "    df = pd.read_csv(path)[['Patient', 'File', 'Duration']]\n",
    "    for file in tqdm(df.iterrows()):\n",
    "        try:\n",
    "            # iterates through each record with seizures (should be 142)\n",
    "            path = f'../chbmit/1.0.0/{file[1][0]}/{file[1][1]}.edf'\n",
    "            data = mne.io.read_raw_edf(path, preload=True)\n",
    "            raw_data = data.get_data()\n",
    "            if i1 != None and i2 != None:\n",
    "                raw_data = raw_data[i1:i2]\n",
    "            duration = file[1][2]\n",
    "            start = random.randint(1, duration-1) * sf\n",
    "            nonseizurevector = raw_data.take(indices=range(start-s, start+s), axis=1)\n",
    "            # USE FOR DEBUGGING print(f'Length of Seizure Vector {((start + s) - (start - s)) / 256}')\n",
    "            bands = M_bands(nonseizurevector, 8)\n",
    "            bands = np.array(np.split(bands, 512, 2))\n",
    "            bands = np.swapaxes(bands, 0, 3)\n",
    "            bands = np.swapaxes(bands, 0, 2)\n",
    "            bands = np.swapaxes(bands, 0, 1)\n",
    "            pv = np.apply_along_axis(powervals, 3, bands)\n",
    "            pv = np.swapaxes(pv, 0, 2)\n",
    "            pv = np.swapaxes(pv, 0, 1)\n",
    "            pv = np.hstack((pv[0:23]))\n",
    "            seizures.append(pv)\n",
    "        except Exception as e:\n",
    "            print(e)\n",
    "    try:\n",
    "        nonseizures = np.array(seizures)\n",
    "        return nonseizures\n",
    "    except:\n",
    "        return nonseizures"
   ]
  },
  {
   "cell_type": "code",
   "execution_count": 86,
   "id": "01c67ae6-196f-4010-839b-554679e4b34b",
   "metadata": {},
   "outputs": [],
   "source": [
    "df = pd.read_csv('nonseizure.csv')[['Patient', 'File', 'Duration']]"
   ]
  },
  {
   "cell_type": "code",
   "execution_count": 87,
   "id": "2ebe1614-8edf-41d0-a7df-0d8f845ffb07",
   "metadata": {},
   "outputs": [],
   "source": [
    "with open('../chbmit/1.0.0/RECORDS', 'r') as f:\n",
    "    recordlines = f.readlines()\n",
    "    \n",
    "with open('../chbmit/1.0.0/RECORDS-WITH-SEIZURES', 'r') as f:\n",
    "    seizurelines = f.readlines()\n",
    "    seizurelines = [line[6:].strip() for line in seizurelines]\n",
    "    \n",
    "summaries = []\n",
    "for x in range(1, 25):\n",
    "    if x < 10:\n",
    "        x = f'0{x}'\n",
    "    with open(f'../chbmit/1.0.0/chb{x}/chb{x}-summary.txt', 'r') as f:\n",
    "        lines = f.readlines()\n",
    "        lines = [line.strip() for line in lines[29:]]\n",
    "        summaries += lines"
   ]
  },
  {
   "cell_type": "code",
   "execution_count": null,
   "id": "ae0a9f07-2764-4a88-b5d5-10f170dc3d71",
   "metadata": {},
   "outputs": [],
   "source": []
  },
  {
   "cell_type": "code",
   "execution_count": 88,
   "id": "12f2f7da-a4d0-429f-8871-a569b74700ad",
   "metadata": {},
   "outputs": [
    {
     "name": "stderr",
     "output_type": "stream",
     "text": [
      "31it [00:31,  1.01s/it]\n"
     ]
    }
   ],
   "source": [
    "data = non_seizure_retrieval(seizurelines, 'nonseizure.csv', i1=0, i2=3)"
   ]
  },
  {
   "cell_type": "code",
   "execution_count": 90,
   "id": "b860af4a-1aca-4c1e-8a47-716e2f62e8b9",
   "metadata": {},
   "outputs": [
    {
     "data": {
      "text/plain": [
       "(31, 100, 24)"
      ]
     },
     "execution_count": 90,
     "metadata": {},
     "output_type": "execute_result"
    }
   ],
   "source": [
    "data.shape"
   ]
  },
  {
   "cell_type": "code",
   "execution_count": 91,
   "id": "616cdc8f-2020-4fa0-928b-65513e228c83",
   "metadata": {},
   "outputs": [],
   "source": [
    "from nonseizure_dataretrieval import non_seizure_retrieval"
   ]
  },
  {
   "cell_type": "code",
   "execution_count": 92,
   "id": "94c6c044-5ec6-463f-9f41-2995688dfdd9",
   "metadata": {},
   "outputs": [
    {
     "name": "stderr",
     "output_type": "stream",
     "text": [
      "31it [00:30,  1.00it/s]\n"
     ]
    }
   ],
   "source": [
    "data = non_seizure_retrieval(seizurelines, 'nonseizure.csv', i1=0, i2=3)"
   ]
  },
  {
   "cell_type": "code",
   "execution_count": null,
   "id": "1bbde0e5-e406-4800-a6fc-dc8aabbde0d5",
   "metadata": {},
   "outputs": [],
   "source": []
  }
 ],
 "metadata": {
  "environment": {
   "kernel": "python3",
   "name": "tf2-cpu.2-7.m87",
   "type": "gcloud",
   "uri": "gcr.io/deeplearning-platform-release/tf2-cpu.2-7:m87"
  },
  "kernelspec": {
   "display_name": "Python 3",
   "language": "python",
   "name": "python3"
  },
  "language_info": {
   "codemirror_mode": {
    "name": "ipython",
    "version": 3
   },
   "file_extension": ".py",
   "mimetype": "text/x-python",
   "name": "python",
   "nbconvert_exporter": "python",
   "pygments_lexer": "ipython3",
   "version": "3.7.12"
  }
 },
 "nbformat": 4,
 "nbformat_minor": 5
}
