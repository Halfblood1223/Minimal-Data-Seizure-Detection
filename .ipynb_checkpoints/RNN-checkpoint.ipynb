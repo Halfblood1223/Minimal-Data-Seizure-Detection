{
 "cells": [
  {
   "cell_type": "code",
   "execution_count": null,
   "id": "78fca72e-5ae5-4ca4-9db3-ef4aa8de075a",
   "metadata": {},
   "outputs": [],
   "source": [
    "import numpy as np\n",
    "\n",
    "import matplotlib.pyplot as plt\n",
    "\n",
    "from data_retrieval import seizure_timestamps, classify, seizurevector_retrieval\n",
    "\n",
    "from nonseizure_dataretrieval import non_seizure_retrieval"
   ]
  },
  {
   "cell_type": "code",
   "execution_count": null,
   "id": "1d2bcc1e-9ec8-4813-8883-a37837d0344a",
   "metadata": {},
   "outputs": [],
   "source": [
    "with open('../chbmit/1.0.0/RECORDS', 'r') as f:\n",
    "    recordlines = f.readlines()\n",
    "    recordlines = [line[6:].strip() for line in recordlines]\n",
    "    \n",
    "with open('../chbmit/1.0.0/RECORDS-WITH-SEIZURES', 'r') as f:\n",
    "    seizurelines = f.readlines()\n",
    "    seizurelines = [line[6:].strip() for line in seizurelines]\n",
    "    \n",
    "summaries = []\n",
    "for x in range(1, 25):\n",
    "    if x < 10:\n",
    "        x = f'0{x}'\n",
    "    with open(f'../chbmit/1.0.0/chb{x}/chb{x}-summary.txt', 'r') as f:\n",
    "        lines = f.readlines()\n",
    "        lines = [line.strip() for line in lines[29:]]\n",
    "        summaries += lines"
   ]
  },
  {
   "cell_type": "code",
   "execution_count": null,
   "id": "4cccc33e-e63d-40be-9ef1-5501b9577ee0",
   "metadata": {},
   "outputs": [],
   "source": [
    "timestamps = seizure_timestamps(summaries, seizurelines)"
   ]
  },
  {
   "cell_type": "code",
   "execution_count": null,
   "id": "b93d525a-79df-43ff-8a2d-4ee8b0000ee8",
   "metadata": {},
   "outputs": [],
   "source": [
    "seizureclass = np.zeros((197, 100))"
   ]
  },
  {
   "cell_type": "code",
   "execution_count": null,
   "id": "8be0486a-f694-45a3-b2f2-2cd07a30eca9",
   "metadata": {},
   "outputs": [],
   "source": [
    "Y = classify(seizureclass, timestamps)"
   ]
  },
  {
   "cell_type": "code",
   "execution_count": null,
   "id": "b7ec91ba-f479-409b-8c6c-f3dde334a0f9",
   "metadata": {},
   "outputs": [],
   "source": [
    "X, classifierpop = seizurevector_retrieval(timestamps, channel1=0, channel2=3)"
   ]
  },
  {
   "cell_type": "code",
   "execution_count": null,
   "id": "084ae78a-75ce-4da2-b46c-fdc10b4393a8",
   "metadata": {},
   "outputs": [],
   "source": [
    "classifierpop"
   ]
  },
  {
   "cell_type": "code",
   "execution_count": null,
   "id": "ee572f5d-d0eb-404f-b413-37de0c8ffd39",
   "metadata": {},
   "outputs": [],
   "source": [
    "Y = np.delete(Y, classifierpop, axis=0)"
   ]
  },
  {
   "cell_type": "code",
   "execution_count": null,
   "id": "c69d6bb6-8253-4032-a129-6c1b124c68e1",
   "metadata": {},
   "outputs": [],
   "source": [
    "path = 'nonseizure.csv'\n",
    "X_noseize, classiferpop = non_seizure_retrieval(recordlines, seizurelines, i1=0, i2=3)"
   ]
  },
  {
   "cell_type": "code",
   "execution_count": null,
   "id": "f89cf253-7aca-4223-9c7f-708412023d98",
   "metadata": {},
   "outputs": [],
   "source": [
    "# Use for debugging purposes\n",
    "\"\"\"X_copy = X[:]\n",
    "newX = np.ones((193, 100, 184))\n",
    "for index, val in enumerate(X_copy):\n",
    "    newX[index] = val\"\"\""
   ]
  },
  {
   "cell_type": "code",
   "execution_count": null,
   "id": "f6cfbde6-ce87-4079-8baf-08675099acf3",
   "metadata": {},
   "outputs": [],
   "source": [
    "X = np.concatenate((X, X_noseize))\n",
    "classify_noseize = np.zeros(X_noseize.shape[:-1])\n",
    "# classify_noseize = np.delete(classify_noseize, classifierpop, axis=0)\n",
    "Y = np.concatenate((Y, classify_noseize))"
   ]
  },
  {
   "cell_type": "code",
   "execution_count": 308,
   "id": "2498eb87-13dd-4962-a54d-3db5321e9999",
   "metadata": {},
   "outputs": [
    {
     "name": "stdout",
     "output_type": "stream",
     "text": [
      "Logits Shape: (727, 100, 24), Labels Shape: (727, 100)\n"
     ]
    }
   ],
   "source": [
    "print(f'Logits Shape: {X.shape}, Labels Shape: {Y.shape}')"
   ]
  },
  {
   "cell_type": "code",
   "execution_count": null,
   "id": "cd6f1500-2480-4a12-8664-cd76b3016c0e",
   "metadata": {},
   "outputs": [],
   "source": [
    "from tensorflow import keras\n",
    "from tensorflow.keras.models import Sequential\n",
    "from tensorflow.keras.layers import Bidirectional, AveragePooling1D, Dense, BatchNormalization, SimpleRNN, Dropout, LSTM, LeakyReLU\n",
    "from tensorflow.keras.optimizers import Adam\n",
    "from sklearn.preprocessing import MinMaxScaler\n",
    "from sklearn.metrics import mean_squared_error, confusion_matrix\n",
    "from keras.metrics import BinaryAccuracy, TruePositives, FalsePositives, TrueNegatives, FalseNegatives"
   ]
  },
  {
   "cell_type": "code",
   "execution_count": 417,
   "id": "13cc50d9-89f3-4ab3-b23f-7f6c0d9374cd",
   "metadata": {},
   "outputs": [],
   "source": [
    "# Our custom loss' wrapper\n",
    "def custom_loss(recall_weight, spec_weight):\n",
    "\n",
    "    def recall_spec_loss(y_true, y_pred):\n",
    "        return binary_recall_specificity(y_true, y_pred, recall_weight, spec_weight)\n",
    "\n",
    "    # Returns the (y_true, y_pred) loss function\n",
    "    return recall_spec_loss"
   ]
  },
  {
   "cell_type": "code",
   "execution_count": 403,
   "id": "fbbbb069-1dfa-42c6-8b5d-d8b96aa4beb6",
   "metadata": {},
   "outputs": [],
   "source": [
    "def create_RNN(hidden_units, dense_units, input_shape, activation):\n",
    "    model = Sequential()\n",
    "    # model.add(BatchNormalization())\n",
    "    model.add(LSTM(hidden_units, activation=activation[0], return_sequences=True))\n",
    "    model.add(LSTM(hidden_units, activation=activation[0], return_sequences=True))\n",
    "    model.add(AveragePooling1D(pool_size=100))\n",
    "    # model.add(Dropout(0.5))\n",
    "    model.add(Dense(units=dense_units, activation=activation[1]))\n",
    "    model.add(LeakyReLU())\n",
    "    model.add(Dense(units=dense_units, activation=activation[2]))\n",
    "    model.add(tf.keras.layers.Reshape((100,)))\n",
    "    lr_schedule = tf.keras.optimizers.schedules.ExponentialDecay(\n",
    "    initial_learning_rate=1e-2,\n",
    "    decay_steps=10000,\n",
    "    decay_rate=0.9)\n",
    "    optimizer = Adam(learning_rate=lr_schedule)\n",
    "    model.compile(loss='binary_crossentropy', optimizer=optimizer, metrics=['BinaryAccuracy'])\n",
    "    return model"
   ]
  },
  {
   "cell_type": "code",
   "execution_count": null,
   "id": "eb5c1526-1c11-4461-9ce9-b2cd7055118b",
   "metadata": {},
   "outputs": [],
   "source": [
    "def build_model(hp)\n",
    "create_RNN(2, n_timesteps, (n_timesteps, n_features), activation=['tanh', 'tanh', 'sigmoid'])"
   ]
  },
  {
   "cell_type": "code",
   "execution_count": 404,
   "id": "184d9bfe-a69a-43ee-82d1-38c03cc6e4dc",
   "metadata": {},
   "outputs": [
    {
     "data": {
      "image/png": "[encoded data removed]",
      "text/plain": [
       "<IPython.core.display.Image object>"
      ]
     },
     "execution_count": 404,
     "metadata": {},
     "output_type": "execute_result"
    }
   ],
   "source": [
    "n_samples = 10\n",
    "n_timesteps = 100\n",
    "n_features = 3 * 8\n",
    "model = create_RNN(2, n_timesteps, (n_timesteps, n_features), activation=['tanh', 'tanh', 'sigmoid'])\n",
    "model.build((n_timesteps, n_timesteps, n_features))\n",
    "tf.keras.utils.plot_model(model, show_shapes=True)"
   ]
  },
  {
   "cell_type": "code",
   "execution_count": 405,
   "id": "3c81bcb2-fce0-4e03-8ef1-a7dfb464ed03",
   "metadata": {},
   "outputs": [],
   "source": [
    "from sklearn.model_selection import train_test_split\n",
    "X_train, X_test, Y_train, Y_test = train_test_split(X, Y, test_size=0.2, random_state=20, shuffle=True)"
   ]
  },
  {
   "cell_type": "code",
   "execution_count": 406,
   "id": "c104a6f8-b7a2-4d53-8662-da292398034b",
   "metadata": {},
   "outputs": [
    {
     "name": "stdout",
     "output_type": "stream",
     "text": [
      "Epoch 1/10\n",
      "19/19 - 4s - loss: 0.6064 - binary_accuracy: 0.7396 - 4s/epoch - 231ms/step\n",
      "Epoch 2/10\n",
      "19/19 - 1s - loss: 0.5817 - binary_accuracy: 0.7398 - 811ms/epoch - 43ms/step\n",
      "Epoch 3/10\n",
      "19/19 - 1s - loss: 0.5757 - binary_accuracy: 0.7398 - 868ms/epoch - 46ms/step\n",
      "Epoch 4/10\n",
      "19/19 - 1s - loss: 0.5750 - binary_accuracy: 0.7398 - 921ms/epoch - 48ms/step\n",
      "Epoch 5/10\n",
      "19/19 - 1s - loss: 0.5738 - binary_accuracy: 0.7398 - 840ms/epoch - 44ms/step\n",
      "Epoch 6/10\n",
      "19/19 - 1s - loss: 0.5759 - binary_accuracy: 0.7398 - 788ms/epoch - 41ms/step\n",
      "Epoch 7/10\n",
      "19/19 - 1s - loss: 0.5775 - binary_accuracy: 0.7398 - 787ms/epoch - 41ms/step\n",
      "Epoch 8/10\n",
      "19/19 - 1s - loss: 0.5774 - binary_accuracy: 0.7398 - 802ms/epoch - 42ms/step\n",
      "Epoch 9/10\n",
      "19/19 - 1s - loss: 0.5766 - binary_accuracy: 0.7398 - 812ms/epoch - 43ms/step\n",
      "Epoch 10/10\n",
      "19/19 - 1s - loss: 0.5764 - binary_accuracy: 0.7398 - 818ms/epoch - 43ms/step\n"
     ]
    }
   ],
   "source": [
    "from keras.callbacks import ReduceLROnPlateau, EarlyStopping\n",
    "reduce_lr = ReduceLROnPlateau(monitor='loss', factor=0.2,\n",
    "                              patience=5, min_lr=0.01)\n",
    "earlystop = EarlyStopping(monitor='loss', patience=10, min_delta=0.0001)\n",
    "history = model.fit(X_train, Y_train, epochs=10, verbose=2)"
   ]
  },
  {
   "cell_type": "code",
   "execution_count": 407,
   "id": "1edb37d0-1558-4b15-885c-1e916c649d3e",
   "metadata": {},
   "outputs": [
    {
     "data": {
      "text/plain": [
       "[<matplotlib.lines.Line2D at 0x7fb84f423a90>]"
      ]
     },
     "execution_count": 407,
     "metadata": {},
     "output_type": "execute_result"
    },
    {
     "data": {
      "image/png": "[encoded data removed]",
      "text/plain": [
       "<Figure size 432x288 with 1 Axes>"
      ]
     },
     "metadata": {
      "needs_background": "light"
     },
     "output_type": "display_data"
    }
   ],
   "source": [
    "plt.plot(history.history['loss'])"
   ]
  },
  {
   "cell_type": "code",
   "execution_count": 408,
   "id": "03a2e87c-f881-4a1e-b3ea-77df4967a4fc",
   "metadata": {},
   "outputs": [
    {
     "name": "stdout",
     "output_type": "stream",
     "text": [
      "5/5 [==============================] - 1s 10ms/step - loss: 0.5934 - binary_accuracy: 0.7197\n"
     ]
    },
    {
     "data": {
      "text/plain": [
       "[0.5933666229248047, 0.7196575403213501]"
      ]
     },
     "execution_count": 408,
     "metadata": {},
     "output_type": "execute_result"
    }
   ],
   "source": [
    "model.evaluate(X_test, Y_test)"
   ]
  },
  {
   "cell_type": "code",
   "execution_count": 409,
   "id": "c70f46f0-1065-4f95-9e76-c8c1e876cfd1",
   "metadata": {},
   "outputs": [
    {
     "name": "stdout",
     "output_type": "stream",
     "text": [
      "Original Shape: (146, 100)\n"
     ]
    }
   ],
   "source": [
    "ypred = model.predict(X_test)\n",
    "print(f'Original Shape: {ypred.shape}')"
   ]
  },
  {
   "cell_type": "code",
   "execution_count": 410,
   "id": "228dfc61-7546-4b53-9e42-a438085c7376",
   "metadata": {},
   "outputs": [],
   "source": [
    "from sklearn.metrics import f1_score, confusion_matrix, classification_report\n",
    "import tensorflow as tf"
   ]
  },
  {
   "cell_type": "code",
   "execution_count": 411,
   "id": "6245efe9-8ebb-4bd3-8dce-2d32c49b76e5",
   "metadata": {},
   "outputs": [],
   "source": [
    "scaler = MinMaxScaler()\n",
    "ypred = scaler.fit_transform(ypred.reshape(-1,1))"
   ]
  },
  {
   "cell_type": "code",
   "execution_count": 412,
   "id": "ef7d54ac-207a-450e-a9c7-9cfbe01d0e79",
   "metadata": {},
   "outputs": [],
   "source": [
    "ypred = np.float64((ypred > 0.5))"
   ]
  },
  {
   "cell_type": "code",
   "execution_count": 413,
   "id": "9d6a04f1-0376-4ca2-be85-75d83c711f26",
   "metadata": {},
   "outputs": [],
   "source": [
    "cf_matrix = confusion_matrix(ypred, Y_test.reshape(-1,1))"
   ]
  },
  {
   "cell_type": "code",
   "execution_count": 414,
   "id": "64baaae3-df54-4739-ace0-0d7c3a613cfa",
   "metadata": {},
   "outputs": [
    {
     "data": {
      "image/png": "[encoded data removed]",
      "text/plain": [
       "<Figure size 432x288 with 2 Axes>"
      ]
     },
     "metadata": {
      "needs_background": "light"
     },
     "output_type": "display_data"
    }
   ],
   "source": [
    "import seaborn as sns\n",
    "\n",
    "ax = sns.heatmap(cf_matrix/np.sum(cf_matrix), annot=True, cmap='Blues')\n",
    "\n",
    "ax.set_title('Seaborn Confusion Matrix with labels \\n');\n",
    "ax.set_xlabel('\\nPredicted Values')\n",
    "ax.set_ylabel('Actual Values \\n ');\n",
    "\n",
    "## Ticket labels - List must be in alphabetical order\n",
    "ax.xaxis.set_ticklabels(['Nonseizure','Seizure'])\n",
    "ax.yaxis.set_ticklabels(['NonSeizure','Seizure'])\n",
    "\n",
    "## Display the visualization of the Confusion Matrix.\n",
    "plt.show()"
   ]
  },
  {
   "cell_type": "code",
   "execution_count": 415,
   "id": "e2b002de-4faf-45f6-a6b0-2c3e1e9f8c0e",
   "metadata": {},
   "outputs": [],
   "source": [
    "targetnames = ['NonSeizure', 'Seizure']\n",
    "creport = classification_report(ypred, Y_test.reshape(-1,1), target_names=targetnames)"
   ]
  },
  {
   "cell_type": "code",
   "execution_count": 416,
   "id": "c452aa57-89f4-4910-9373-b85c4f0378d3",
   "metadata": {},
   "outputs": [
    {
     "name": "stdout",
     "output_type": "stream",
     "text": [
      "              precision    recall  f1-score   support\n",
      "\n",
      "  NonSeizure       0.24      0.72      0.36      3504\n",
      "     Seizure       0.76      0.28      0.41     11096\n",
      "\n",
      "    accuracy                           0.39     14600\n",
      "   macro avg       0.50      0.50      0.39     14600\n",
      "weighted avg       0.64      0.39      0.40     14600\n",
      "\n"
     ]
    }
   ],
   "source": [
    "print(creport)"
   ]
  },
  {
   "cell_type": "code",
   "execution_count": 363,
   "id": "06538094-4bea-4a11-9988-ccf4347323c0",
   "metadata": {},
   "outputs": [
    {
     "data": {
      "text/plain": [
       "array([[15397,  5351],\n",
       "       [11610,  4042]])"
      ]
     },
     "execution_count": 363,
     "metadata": {},
     "output_type": "execute_result"
    }
   ],
   "source": [
    "cf_matrix"
   ]
  },
  {
   "cell_type": "code",
   "execution_count": null,
   "id": "54d14671-ea44-4140-9d5c-b7e2e8edf2f0",
   "metadata": {},
   "outputs": [],
   "source": []
  },
  {
   "cell_type": "code",
   "execution_count": null,
   "id": "6044ccf3-683a-4ef4-8a34-dc149f972c70",
   "metadata": {},
   "outputs": [],
   "source": []
  },
  {
   "cell_type": "code",
   "execution_count": null,
   "id": "c27bf90d-e21a-48f4-bf68-f217236ba7f4",
   "metadata": {},
   "outputs": [],
   "source": []
  },
  {
   "cell_type": "code",
   "execution_count": null,
   "id": "478084cf-be05-4901-92e5-ee6da1655534",
   "metadata": {},
   "outputs": [],
   "source": []
  }
 ],
 "metadata": {
  "environment": {
   "kernel": "python3",
   "name": "tf2-cpu.2-7.m87",
   "type": "gcloud",
   "uri": "gcr.io/deeplearning-platform-release/tf2-cpu.2-7:m87"
  },
  "kernelspec": {
   "display_name": "Python 3",
   "language": "python",
   "name": "python3"
  },
  "language_info": {
   "codemirror_mode": {
    "name": "ipython",
    "version": 3
   },
   "file_extension": ".py",
   "mimetype": "text/x-python",
   "name": "python",
   "nbconvert_exporter": "python",
   "pygments_lexer": "ipython3",
   "version": "3.7.12"
  }
 },
 "nbformat": 4,
 "nbformat_minor": 5
}
